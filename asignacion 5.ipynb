{
 "cells": [
  {
   "cell_type": "markdown",
   "metadata": {},
   "source": [
    "# Asignación 5\n",
    "\n",
    "## Newton Raphson Multivariable y Gauss Seidel\n"
   ]
  },
  {
   "cell_type": "markdown",
   "metadata": {},
   "source": [
    "## definimos las ecuaciones\n",
    "\n",
    "### Para calcular valores de $X_1, X_2, X_3$"
   ]
  },
  {
   "cell_type": "code",
   "execution_count": 31,
   "metadata": {},
   "outputs": [],
   "source": [
    "import numpy as np\n",
    "\n",
    "\n",
    "def sistema(valores):\n",
    "    x1, x2, x3 = valores\n",
    "    ec1 = x1**2 + 2*x2**2 + np.exp(x1 + x2) - 6.1718 + x1*x3\n",
    "    ec2 = 10*x2 + x2*x3\n",
    "    ec3 = np.sin(x1 * x3) + x2**2 - 1.141 + x1\n",
    "    return np.array([ec1, ec2, ec3])"
   ]
  },
  {
   "cell_type": "markdown",
   "metadata": {},
   "source": [
    "## Función para calcular el Jacobiano \n",
    "\n",
    "## Definimos el Jacobiano y las derivadas parciales de cada ecuacion con respecto a las variables. Y definimos el retorno de la matriz J."
   ]
  },
  {
   "cell_type": "code",
   "execution_count": 32,
   "metadata": {},
   "outputs": [],
   "source": [
    "# Función para calcular el Jacobiano (derivadas parciales de cada ecuación respecto a cada variable)\n",
    "def jacobiano(valores):\n",
    "    x1, x2, x3 = valores\n",
    "    # Derivadas parciales ec1\n",
    "    df1_dx1 = 2*x1 + x3 + np.exp(x1 + x2)\n",
    "    df1_dx2 = 4*x2 + np.exp(x1 + x2)\n",
    "    df1_dx3 = x1\n",
    "\n",
    "    # Derivadas parciales ec2\n",
    "    df2_dx1 = 0\n",
    "    df2_dx2 = 10 + x3\n",
    "    df2_dx3 = x2\n",
    "\n",
    "    # Derivadas parciales ec3\n",
    "    df3_dx1 = x3 * np.cos(x1 * x3) + 1\n",
    "    df3_dx2 = 2*x2\n",
    "    df3_dx3 = x1 * np.cos(x1 * x3)\n",
    "        # Retornamos la matriz J\n",
    "    return np.array([[df1_dx1, df1_dx2, df1_dx3],\n",
    "                     [df2_dx1, df2_dx2, df2_dx3],\n",
    "                     [df3_dx1, df3_dx2, df3_dx3]])"
   ]
  },
  {
   "cell_type": "markdown",
   "metadata": {},
   "source": [
    "## Declaramos los parametross del newton raphson mulltivariable"
   ]
  },
  {
   "cell_type": "code",
   "execution_count": 33,
   "metadata": {},
   "outputs": [],
   "source": [
    "def mnrm(raiz, tol=1e-6, max_iter=100):\n",
    "    valores = np.array(raiz)\n",
    "    \n",
    "    print(f\"{'Iteración':<10}{'x1':<15}{'x2':<15}{'x3':<15}{'Norma':<15}\")\n",
    "    print(\"-\" * 60)\n",
    "    \n",
    "    for iteration in range(max_iter):\n",
    "        F = sistema(valores)\n",
    "        J = jacobiano(valores)\n",
    "        \n",
    "        \n",
    "        print(f\"Jacobiano en la iteración {iteration+1}:\\n{J}\\n\")\n",
    "        \n",
    "        \n",
    "        delta = np.linalg.solve(J, -F)\n",
    "        \n",
    "        \n",
    "        valores = valores + delta\n",
    "        \n",
    "        \n",
    "        print(f\"{iteration + 1:<10}{valores[0]:<15.10f}{valores[1]:<15.10f}{valores[2]:<15.10f}{np.linalg.norm(delta):<15.8f}\")\n",
    "        \n",
    "        \n",
    "        if np.linalg.norm(delta) < tol:\n",
    "            print(f\"\\nConvergió en {iteration + 1} iteraciones\")\n",
    "            return valores\n",
    "    \n",
    "    print(\"No convergió en el número máximo de iteraciones\")\n",
    "    return valores"
   ]
  },
  {
   "cell_type": "markdown",
   "metadata": {},
   "source": [
    "# Método de Gauss Seidel\n",
    "\n",
    "## Definimos ecuaciones para el sistema"
   ]
  },
  {
   "cell_type": "code",
   "execution_count": 34,
   "metadata": {},
   "outputs": [],
   "source": [
    "\n",
    "def f1(x1, x2, x3):\n",
    "    return np.sqrt(6.1718 - x1 * x3 - 2 * x2**2 - np.exp(x1 + x2))\n",
    "\n",
    "def f2(x1, x2, x3):\n",
    "    return (-x2 * x3) / 10\n",
    "\n",
    "def f3(x1, x2, x3):\n",
    "    return np.arcsin(1.141 - x1 - x2**2) / x3 if x3 != 0 else 0  "
   ]
  },
  {
   "cell_type": "markdown",
   "metadata": {},
   "source": [
    "## Definimos los parametros del Gauss Seidel"
   ]
  },
  {
   "cell_type": "code",
   "execution_count": 35,
   "metadata": {},
   "outputs": [],
   "source": [
    "def gs(raiz2, tol=1e-6, max_iter=100):\n",
    "    x1, x2, x3 = raiz2\n",
    "    \n",
    "    print(f\"{'Iteración':<10}{'x1':<15}{'x2':<15}{'x3':<15}{'Norma':<15}\")\n",
    "    print(\"-\" * 60)\n",
    "    \n",
    "    for iteration in range(max_iter):\n",
    "        x1_old, x2_old, x3_old = x1, x2, x3\n",
    "                \n",
    "        x1 = f1(x1_old, x2_old, x3_old)\n",
    "        x2 = f2(x1, x2_old, x3_old)\n",
    "        x3 = f3(x1, x2, x3_old)\n",
    "        \n",
    "        delta = np.array([x1 - x1_old, x2 - x2_old, x3 - x3_old])\n",
    "        norma = np.linalg.norm(delta)\n",
    "        \n",
    "        print(f\"{iteration + 1:<10}{x1:<15.10f}{x2:<15.10f}{x3:<15.10f}{norma:<15.8f}\")\n",
    "        \n",
    "        if norma < tol:\n",
    "            print(f\"\\nConvergió en {iteration + 1} iteraciones\")\n",
    "            return np.array([x1, x2, x3])\n",
    "    \n",
    "    print(\"No convergió en el número máximo de iteraciones\")\n",
    "    return np.array([x1, x2, x3])"
   ]
  },
  {
   "cell_type": "markdown",
   "metadata": {},
   "source": [
    "## En este código quise implementar preguntar al usuario que método usar. Ya que son 2 casos para demostrar"
   ]
  },
  {
   "cell_type": "code",
   "execution_count": 36,
   "metadata": {},
   "outputs": [
    {
     "name": "stdout",
     "output_type": "stream",
     "text": [
      "Selecciona el método que deseas usar para resolver el sistema de ecuaciones:\n",
      "1. Newton-Raphson Multivariable\n",
      "2. Gauss-Seidel\n",
      "Iteración x1             x2             x3             Norma          \n",
      "------------------------------------------------------------\n",
      "1         1.5663710198   0.0000000000   -0.4393718041  1.54679259     \n",
      "2         1.4390214335   0.0000000000   0.6887543180   1.13529136     \n",
      "3         0.9818860262   -0.0000000000  0.2320030875   0.64621550     \n",
      "4         1.8095616023   0.0000000000   -3.1563066115  3.48793484     \n",
      "5         2.4032399040   0.0000000000   nan            nan            \n",
      "6         nan            nan            nan            nan            \n",
      "7         nan            nan            nan            nan            \n",
      "8         nan            nan            nan            nan            \n",
      "9         nan            nan            nan            nan            \n",
      "10        nan            nan            nan            nan            \n",
      "11        nan            nan            nan            nan            \n",
      "12        nan            nan            nan            nan            \n",
      "13        nan            nan            nan            nan            \n",
      "14        nan            nan            nan            nan            \n",
      "15        nan            nan            nan            nan            \n",
      "16        nan            nan            nan            nan            \n",
      "17        nan            nan            nan            nan            \n",
      "18        nan            nan            nan            nan            \n",
      "19        nan            nan            nan            nan            \n",
      "20        nan            nan            nan            nan            \n",
      "21        nan            nan            nan            nan            \n",
      "22        nan            nan            nan            nan            \n",
      "23        nan            nan            nan            nan            \n",
      "24        nan            nan            nan            nan            \n",
      "25        nan            nan            nan            nan            \n",
      "26        nan            nan            nan            nan            \n",
      "27        nan            nan            nan            nan            \n",
      "28        nan            nan            nan            nan            \n",
      "29        nan            nan            nan            nan            \n",
      "30        nan            nan            nan            nan            \n",
      "31        nan            nan            nan            nan            \n",
      "32        nan            nan            nan            nan            \n",
      "33        nan            nan            nan            nan            \n",
      "34        nan            nan            nan            nan            \n",
      "35        nan            nan            nan            nan            \n",
      "36        nan            nan            nan            nan            \n",
      "37        nan            nan            nan            nan            \n",
      "38        nan            nan            nan            nan            \n",
      "39        nan            nan            nan            nan            \n",
      "40        nan            nan            nan            nan            \n",
      "41        nan            nan            nan            nan            \n",
      "42        nan            nan            nan            nan            \n",
      "43        nan            nan            nan            nan            \n",
      "44        nan            nan            nan            nan            \n",
      "45        nan            nan            nan            nan            \n",
      "46        nan            nan            nan            nan            \n",
      "47        nan            nan            nan            nan            \n",
      "48        nan            nan            nan            nan            \n",
      "49        nan            nan            nan            nan            \n",
      "50        nan            nan            nan            nan            \n",
      "51        nan            nan            nan            nan            \n",
      "52        nan            nan            nan            nan            \n",
      "53        nan            nan            nan            nan            \n",
      "54        nan            nan            nan            nan            \n",
      "55        nan            nan            nan            nan            \n",
      "56        nan            nan            nan            nan            \n",
      "57        nan            nan            nan            nan            \n",
      "58        nan            nan            nan            nan            \n",
      "59        nan            nan            nan            nan            \n",
      "60        nan            nan            nan            nan            \n",
      "61        nan            nan            nan            nan            \n",
      "62        nan            nan            nan            nan            \n",
      "63        nan            nan            nan            nan            \n",
      "64        nan            nan            nan            nan            \n",
      "65        nan            nan            nan            nan            \n",
      "66        nan            nan            nan            nan            \n",
      "67        nan            nan            nan            nan            \n",
      "68        nan            nan            nan            nan            \n",
      "69        nan            nan            nan            nan            \n",
      "70        nan            nan            nan            nan            \n",
      "71        nan            nan            nan            nan            \n",
      "72        nan            nan            nan            nan            \n",
      "73        nan            nan            nan            nan            \n",
      "74        nan            nan            nan            nan            \n",
      "75        nan            nan            nan            nan            \n",
      "76        nan            nan            nan            nan            \n",
      "77        nan            nan            nan            nan            \n",
      "78        nan            nan            nan            nan            \n",
      "79        nan            nan            nan            nan            \n",
      "80        nan            nan            nan            nan            \n",
      "81        nan            nan            nan            nan            \n",
      "82        nan            nan            nan            nan            \n",
      "83        nan            nan            nan            nan            \n",
      "84        nan            nan            nan            nan            \n",
      "85        nan            nan            nan            nan            \n",
      "86        nan            nan            nan            nan            \n",
      "87        nan            nan            nan            nan            \n",
      "88        nan            nan            nan            nan            \n",
      "89        nan            nan            nan            nan            \n",
      "90        nan            nan            nan            nan            \n",
      "91        nan            nan            nan            nan            \n",
      "92        nan            nan            nan            nan            \n",
      "93        nan            nan            nan            nan            \n",
      "94        nan            nan            nan            nan            \n",
      "95        nan            nan            nan            nan            \n",
      "96        nan            nan            nan            nan            \n",
      "97        nan            nan            nan            nan            \n",
      "98        nan            nan            nan            nan            \n",
      "99        nan            nan            nan            nan            \n",
      "100       nan            nan            nan            nan            \n",
      "No convergió en el número máximo de iteraciones\n",
      "\n",
      "La solución final es: x1 = nan, x2 = nan, x3 = nan\n"
     ]
    },
    {
     "name": "stderr",
     "output_type": "stream",
     "text": [
      "C:\\Users\\Raul\\AppData\\Local\\Temp\\ipykernel_1724\\4113540417.py:8: RuntimeWarning: invalid value encountered in arcsin\n",
      "  return np.arcsin(1.141 - x1 - x2**2) / x3 if x3 != 0 else 0\n"
     ]
    }
   ],
   "source": [
    "\n",
    "def main():\n",
    "    print(\"Selecciona el método que deseas usar para resolver el sistema de ecuaciones:\")\n",
    "    print(\"1. Newton-Raphson Multivariable\")\n",
    "    print(\"2. Gauss-Seidel\")\n",
    "    opcion = int(input(\"Introduce 1 o 2: \"))\n",
    "\n",
    "    if opcion == 1:\n",
    "        raiz = [1, 0, 1]\n",
    "        solucion = mnrm(raiz)\n",
    "        print(f\"\\nLa solución final es: x1 = {solucion[0]:.4f}, x2 = {solucion[1]:.4f}, x3 = {solucion[2]:.4f}\")\n",
    "    \n",
    "    elif opcion == 2:\n",
    "        raiz2 = [1, 0, 1]\n",
    "        solucion = gs(raiz2)\n",
    "        print(f\"\\nLa solución final es: x1 = {solucion[0]:.4f}, x2 = {solucion[1]:.4f}, x3 = {solucion[2]:.4f}\")\n",
    "    \n",
    "    else:\n",
    "        print(\"Opción no válida. Intenta de nuevo.\")\n",
    "        return\n",
    "\n",
    "if __name__ == \"__main__\":\n",
    "    main()\n"
   ]
  }
 ],
 "metadata": {
  "kernelspec": {
   "display_name": "Python 3",
   "language": "python",
   "name": "python3"
  },
  "language_info": {
   "codemirror_mode": {
    "name": "ipython",
    "version": 3
   },
   "file_extension": ".py",
   "mimetype": "text/x-python",
   "name": "python",
   "nbconvert_exporter": "python",
   "pygments_lexer": "ipython3",
   "version": "3.12.5"
  }
 },
 "nbformat": 4,
 "nbformat_minor": 2
}
