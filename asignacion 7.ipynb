{
 "cells": [
  {
   "cell_type": "markdown",
   "metadata": {},
   "source": [
    "# Asignación No. 7\n",
    "\n",
    "## Importamos librerías y definimos la función y sus derivadas para el proceso de Golden Search."
   ]
  },
  {
   "cell_type": "code",
   "execution_count": 13,
   "metadata": {},
   "outputs": [],
   "source": [
    "import numpy as np\n",
    "import ipywidgets as widgets\n",
    "from IPython.display import display, clear_output"
   ]
  },
  {
   "cell_type": "markdown",
   "metadata": {},
   "source": [
    "### Definimos el método de razon dorada o Golden search, en este código lo he definido por sus iniciales (mrd). Colocamos los parámetros, las formulas para encontrar los puntos y el error absoluto.\n",
    "\n",
    "##### Por otro lado, para este método se debe colocar un proceso if y else, para que en las distintas iteraciones se cumplan los requisitos, ya que en el caso de que $f1>f2$ entonces $x_2$ se convierte en $x_l$ y $x_1$ pasa a ser $x_2$\n",
    "\n",
    "##### En cambio, cuando sucede lo contrario $f2>f1$, ntonces $x_1$ se convierte en $x_u$ y $x_2$ pasa a ser $x_1$\n"
   ]
  },
  {
   "cell_type": "code",
   "execution_count": 14,
   "metadata": {},
   "outputs": [],
   "source": [
    "def mrd():\n",
    "    \n",
    "    xl = 0.01  \n",
    "    xu = 4     \n",
    "    tol = 1e-4  \n",
    "    rd = (np.sqrt(5) - 1) / 2  \n",
    "\n",
    "    \n",
    "    x1 = xl + rd * (xu - xl)\n",
    "    x2 = xu - rd * (xu - xl)\n",
    "    f1 = f(x1)\n",
    "    f2 = f(x2)\n",
    "\n",
    "    \n",
    "    def error_abs(xl, xu):\n",
    "        return abs(xu - xl)\n",
    "\n",
    "    \n",
    "    iter_count = 0\n",
    "        \n",
    "    print(f\"{'# Iter':<10}{'xl':<10}{'x2':<10}{'x1':<10}{'xu':<10}{'f2':<10}{'f1':<10}{'Error abs':<10}\")\n",
    "    while error_abs(xl, xu) > tol:\n",
    "        iter_count += 1  \n",
    "        \n",
    "        if f1 > f2:\n",
    "            xl = x2\n",
    "            x2 = x1\n",
    "            f2 = f1\n",
    "            x1 = xl + rd * (xu - xl)\n",
    "            f1 = f(x1)\n",
    "        else:\n",
    "            xu = x1\n",
    "            x1 = x2\n",
    "            f1 = f2\n",
    "            x2 = xu - rd * (xu - xl)\n",
    "            f2 = f(x2)\n",
    "        \n",
    "        \n",
    "        if error_abs(xl, xu) > tol:\n",
    "            print(f\"{iter_count:<10}{xl:<10.4f}{x2:<10.4f}{x1:<10.4f}{xu:<10.4f}{f2:<10.4f}{f1:<10.4f}{error_abs(xl, xu):<10.4f}\")\n",
    "\n",
    "    \n",
    "    print(f\"\\nIteraciones finalizadas: {iter_count}\")\n",
    "    print(f\"Resultado final: xl: {xl:.6f}, xu: {xu:.6f}, error abs: {error_abs(xl, xu):.6f}\")"
   ]
  },
  {
   "cell_type": "markdown",
   "metadata": {},
   "source": [
    "### Método de Newton\n",
    "\n",
    "##### Definimos el método de newton, en este código lo he definido por sus iniciales (mn). Colocamos los parámetros, derivadas, las formulas para encontrar los puntos y el error absoluto."
   ]
  },
  {
   "cell_type": "code",
   "execution_count": 15,
   "metadata": {},
   "outputs": [],
   "source": [
    "\n",
    "def f(x):\n",
    "    return 2 * np.sin(x) - (x**2) / 10\n",
    "\n",
    "def df_dx(x):\n",
    "    return 2 * np.cos(x) - x / 5\n",
    "\n",
    "def d2f_d2x(x):\n",
    "    return -2 * np.sin(x) - 1 / 5\n",
    "\n",
    "def mn(x0):\n",
    "    tol = 1e-4\n",
    "    max_iter = 100\n",
    "    x = x0\n",
    "    print(f\"\\n{'Iteración':>10} {'x_i':>10} {'f(x_i)':>10} {'f\\'(x_i)':>10} {'f\\'\\'(x_i)':>10} {'x_{i+1}':>10} {'Error':>10}\")\n",
    "    for i in range(max_iter):\n",
    "        fx = f(x)\n",
    "        dfdx = df_dx(x)\n",
    "        d2fd2x = d2f_d2x(x)\n",
    "        \n",
    "        \n",
    "        x_nueva = x - dfdx / d2fd2x\n",
    "        error_abs = abs(x_nueva - x)\n",
    "        \n",
    "        \n",
    "        print(f\"{i+1:>10} {x:>10.5f} {fx:>10.5f} {dfdx:>10.5f} {d2fd2x:>10.5f} {x_nueva:>10.5f} {error_abs:>10.8f}\")\n",
    "        \n",
    "        \n",
    "        if error_abs < tol:\n",
    "            print(f\"Convergencia en iteración {i+1}: x = {x_nueva:.5f}\")\n",
    "            return x_nueva\n",
    "        \n",
    "        x = x_nueva\n",
    "    \n",
    "    print(\"No hubo convergencia\")\n",
    "    return None"
   ]
  },
  {
   "cell_type": "markdown",
   "metadata": {},
   "source": [
    "### Para este código he decidido volver a usar el boton toggle, que se usó en la primera asignación y que volví a implementar en la asignación, lo que hace esta función es que mediante selección de la persona se elija que método ejecutar.\n",
    "\n",
    "##### Anteriormente en el apartado anterior de método de Newton, las $x_0$, no estan definidas, ya que se define en este apartado de botones, en el que se ve como: $mn(0.01)$, $mn(4)$"
   ]
  },
  {
   "cell_type": "code",
   "execution_count": 16,
   "metadata": {},
   "outputs": [
    {
     "data": {
      "application/vnd.jupyter.widget-view+json": {
       "model_id": "fa3161591c1349f39cd5418cac533f65",
       "version_major": 2,
       "version_minor": 0
      },
      "text/plain": [
       "ToggleButtons(description='Método:', options=('Razon Dorada', 'Newton'), value='Razon Dorada')"
      ]
     },
     "metadata": {},
     "output_type": "display_data"
    },
    {
     "data": {
      "application/vnd.jupyter.widget-view+json": {
       "model_id": "dd1d654557ea46698f6388c184f565be",
       "version_major": 2,
       "version_minor": 0
      },
      "text/plain": [
       "ToggleButton(value=False, button_style='success', description='Empezar Metodo', icon='check', tooltip='Ejecuta…"
      ]
     },
     "metadata": {},
     "output_type": "display_data"
    },
    {
     "data": {
      "application/vnd.jupyter.widget-view+json": {
       "model_id": "888fea51758e414db25d06937f047fa1",
       "version_major": 2,
       "version_minor": 0
      },
      "text/plain": [
       "Output()"
      ]
     },
     "metadata": {},
     "output_type": "display_data"
    }
   ],
   "source": [
    "toggle_button = widgets.ToggleButton(\n",
    "    value=False,\n",
    "    description='Empezar Metodo',\n",
    "    button_style='success',\n",
    "    tooltip='Ejecutar metedo seleccionado',\n",
    "    icon='check'\n",
    ")\n",
    "\n",
    "method_toggle = widgets.ToggleButtons(\n",
    "    options=[\"Razon Dorada\", \"Newton\"],\n",
    "    description=\"Método:\",\n",
    "    disabled=False,\n",
    ")\n",
    "\n",
    "output = widgets.Output()\n",
    "\n",
    "def click_en_boton(cambio):\n",
    "    if cambio['new']:  \n",
    "        with output:\n",
    "            clear_output()  \n",
    "            if method_toggle.value == \"Razon Dorada\":\n",
    "                print(\"Ejecutando el Metodo de la Razon Dorada:\")\n",
    "                mrd()\n",
    "            elif method_toggle.value == \"Newton\":\n",
    "                print(\"Ejecutando el Metodo de Newton con x0 = 0.01:\")\n",
    "                mn(0.01)\n",
    "                print(\"\\nEjecutando el Metodo de Newton con x0 = 4:\")\n",
    "                mn(4)\n",
    "\n",
    "toggle_button.observe(click_en_boton, names='value')\n",
    "\n",
    "display(method_toggle, toggle_button, output)\n"
   ]
  }
 ],
 "metadata": {
  "kernelspec": {
   "display_name": "Python 3",
   "language": "python",
   "name": "python3"
  },
  "language_info": {
   "codemirror_mode": {
    "name": "ipython",
    "version": 3
   },
   "file_extension": ".py",
   "mimetype": "text/x-python",
   "name": "python",
   "nbconvert_exporter": "python",
   "pygments_lexer": "ipython3",
   "version": "3.12.5"
  }
 },
 "nbformat": 4,
 "nbformat_minor": 2
}
