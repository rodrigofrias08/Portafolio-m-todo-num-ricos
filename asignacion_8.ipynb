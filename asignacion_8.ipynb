{
 "cells": [
  {
   "cell_type": "markdown",
   "metadata": {},
   "source": [
    "# Asignación 8\n",
    "## Importamos librería \n",
    "### Definimos matrices y formula para encontrar a."
   ]
  },
  {
   "cell_type": "code",
   "execution_count": 1,
   "metadata": {},
   "outputs": [],
   "source": [
    "import numpy as np\n",
    "\n",
    "\n",
    "x = np.array([0, 1, 3, 5, 9])  # Horas\n",
    "y = np.array([1.000, 0.891, 0.708, 0.562, 0.355])  \n",
    "\n",
    "\n",
    "def a(b, x, y):\n",
    "    a1 = np.sum(y * np.exp(b * x))\n",
    "    a2 = np.sum(np.exp(2 * b * x))\n",
    "    return a1 / a2\n"
   ]
  },
  {
   "cell_type": "markdown",
   "metadata": {},
   "source": [
    "### Definimos el metodo de bisección y la función a la que se le aplicará el método"
   ]
  },
  {
   "cell_type": "code",
   "execution_count": 2,
   "metadata": {},
   "outputs": [
    {
     "name": "stdout",
     "output_type": "stream",
     "text": [
      "Iteración 1: punto_medio = -0.20000, f_b/2 = 0.66892, a_i+1 = 1.11682\n",
      "Iteración 2: punto_medio = -0.15000, f_b/2 = 0.38726, a_i+1 = 1.05665\n",
      "Iteración 3: punto_medio = -0.12500, f_b/2 = 0.13095, a_i+1 = 1.01737\n",
      "Iteración 4: punto_medio = -0.11250, f_b/2 = -0.03802, a_i+1 = 0.99503\n",
      "Iteración 5: punto_medio = -0.11875, f_b/2 = 0.05029, a_i+1 = 1.00643\n",
      "Iteración 6: punto_medio = -0.11563, f_b/2 = 0.00713, a_i+1 = 1.00079\n",
      "Iteración 7: punto_medio = -0.11406, f_b/2 = -0.01520, a_i+1 = 0.99793\n",
      "Iteración 8: punto_medio = -0.11484, f_b/2 = -0.00397, a_i+1 = 0.99936\n",
      "Iteración 9: punto_medio = -0.11523, f_b/2 = 0.00159, a_i+1 = 1.00008\n",
      "Iteración 10: punto_medio = -0.11504, f_b/2 = -0.00119, a_i+1 = 0.99972\n",
      "Iteración 11: punto_medio = -0.11514, f_b/2 = 0.00020, a_i+1 = 0.99990\n",
      "Iteración 12: punto_medio = -0.11509, f_b/2 = -0.00049, a_i+1 = 0.99981\n",
      "Iteración 13: punto_medio = -0.11511, f_b/2 = -0.00014, a_i+1 = 0.99986\n",
      "Iteración 14: punto_medio = -0.11512, f_b/2 = 0.00003, a_i+1 = 0.99988\n",
      "Iteración 15: punto_medio = -0.11512, f_b/2 = -0.00006, a_i+1 = 0.99987\n",
      "Iteración 16: punto_medio = -0.11512, f_b/2 = -0.00001, a_i+1 = 0.99987\n",
      "Iteración 17: punto_medio = -0.11512, f_b/2 = 0.00001, a_i+1 = 0.99987\n",
      "Iteración 18: punto_medio = -0.11512, f_b/2 = -0.00000, a_i+1 = 0.99987\n",
      "Iteración 19: punto_medio = -0.11512, f_b/2 = 0.00000, a_i+1 = 0.99987\n",
      "Iteración 20: punto_medio = -0.11512, f_b/2 = -0.00000, a_i+1 = 0.99987\n",
      "Valor óptimo de b: -0.11512\n",
      "Valor óptimo de a: 0.99987\n"
     ]
    }
   ],
   "source": [
    "def funbis(b, x, y):\n",
    "    A = np.sum(y * x * np.exp(b * x))\n",
    "    B = np.sum(y * np.exp(b * x))\n",
    "    C = np.sum(np.exp(2 * b * x))\n",
    "    D = np.sum(x * np.exp(2 * b * x))\n",
    "   \n",
    "    return A - ((B / C) * D)\n",
    "\n",
    "\n",
    "def biseccion(func, x, y, b_min, b_max, tol=1e-6, max_iter=100):\n",
    "    iteraciones = 0\n",
    "    while iteraciones < max_iter:\n",
    "        b_i2 = (b_min + b_max) / 2\n",
    "        f_i2 = func(b_i2, x, y)\n",
    "        a_i2 = a(b_i2, x, y)  \n",
    "        \n",
    "        \n",
    "        print(f\"Iteración {iteraciones+1}: punto_medio = {b_i2:.5f}, f_b/2 = {f_i2:.5f}, a_i+1 = {a_i2:.5f}\")\n",
    "        \n",
    "        if abs(f_i2) < tol:\n",
    "            return b_i2\n",
    "        elif func(b_min, x, y) * f_i2 < 0:\n",
    "            b_max = b_i2\n",
    "        else:\n",
    "            b_min = b_i2\n",
    "        iteraciones += 1\n",
    "    return b_i2\n",
    "\n",
    "\n",
    "b_min = -0.3\n",
    "b_max = -0.1\n",
    "\n",
    "\n",
    "b_fin = biseccion(funbis, x, y, b_min, b_max)\n",
    "\n",
    "\n",
    "a_fin = a(b_fin, x, y)\n",
    "\n",
    "print(f\"Valor óptimo de b: {b_fin:.5f}\")\n",
    "print(f\"Valor óptimo de a: {a_fin:.5f}\")"
   ]
  }
 ],
 "metadata": {
  "kernelspec": {
   "display_name": "Python 3",
   "language": "python",
   "name": "python3"
  },
  "language_info": {
   "codemirror_mode": {
    "name": "ipython",
    "version": 3
   },
   "file_extension": ".py",
   "mimetype": "text/x-python",
   "name": "python",
   "nbconvert_exporter": "python",
   "pygments_lexer": "ipython3",
   "version": "3.12.5"
  }
 },
 "nbformat": 4,
 "nbformat_minor": 2
}
