{
 "cells": [
  {
   "cell_type": "markdown",
   "metadata": {},
   "source": [
    "#  Asignacion 1\n"
   ]
  },
  {
   "cell_type": "markdown",
   "metadata": {},
   "source": [
    "## Ship's Instruction Manual"
   ]
  },
  {
   "cell_type": "code",
   "execution_count": 33,
   "metadata": {},
   "outputs": [
    {
     "data": {
      "application/vnd.jupyter.widget-view+json": {
       "model_id": "3f7c77322f6a4cffa54352089b2b7e97",
       "version_major": 2,
       "version_minor": 0
      },
      "text/plain": [
       "ToggleButton(value=False, button_style='success', description='Start Engine', icon='rocket', tooltip='Engage y…"
      ]
     },
     "metadata": {},
     "output_type": "display_data"
    },
    {
     "data": {
      "application/vnd.jupyter.widget-view+json": {
       "model_id": "27def7724b3742619ee6a8e40ece7f31",
       "version_major": 2,
       "version_minor": 0
      },
      "text/plain": [
       "Output()"
      ]
     },
     "metadata": {},
     "output_type": "display_data"
    }
   ],
   "source": [
    "import ipywidgets as widgets\n",
    "\n",
    "ignition = widgets.ToggleButton(\n",
    "    value=False,\n",
    "    description='Start Engine',\n",
    "    button_style='success',\n",
    "    tooltip='Engage your Engine',\n",
    "    icon='rocket'\n",
    ")\n",
    "\n",
    "output = widgets.Output()\n",
    "\n",
    "display(ignition, output)\n",
    "\n",
    "def on_value_change(change):\n",
    "    with output:\n",
    "        if change['new'] == True:\n",
    "            print(\"engine started!\")\n",
    "        else:   \n",
    "            print(\"engine stopped\")\n",
    "\n",
    "ignition.observe(on_value_change, names='value')"
   ]
  },
  {
   "cell_type": "code",
   "execution_count": 34,
   "metadata": {},
   "outputs": [
    {
     "name": "stdout",
     "output_type": "stream",
     "text": [
      "Requirement already satisfied: numpy in c:\\users\\raul\\appdata\\local\\programs\\python\\python312\\lib\\site-packages (2.1.0)\n",
      "Note: you may need to restart the kernel to use updated packages.\n"
     ]
    },
    {
     "name": "stderr",
     "output_type": "stream",
     "text": [
      "\n",
      "[notice] A new release of pip is available: 24.2 -> 24.3.1\n",
      "[notice] To update, run: python.exe -m pip install --upgrade pip\n"
     ]
    }
   ],
   "source": [
    "pip install numpy"
   ]
  },
  {
   "cell_type": "code",
   "execution_count": 35,
   "metadata": {},
   "outputs": [
    {
     "name": "stdout",
     "output_type": "stream",
     "text": [
      "Requirement already satisfied: matplotlib in c:\\users\\raul\\appdata\\local\\programs\\python\\python312\\lib\\site-packages (3.9.2)\n",
      "Requirement already satisfied: contourpy>=1.0.1 in c:\\users\\raul\\appdata\\local\\programs\\python\\python312\\lib\\site-packages (from matplotlib) (1.2.1)\n",
      "Requirement already satisfied: cycler>=0.10 in c:\\users\\raul\\appdata\\local\\programs\\python\\python312\\lib\\site-packages (from matplotlib) (0.12.1)\n",
      "Requirement already satisfied: fonttools>=4.22.0 in c:\\users\\raul\\appdata\\local\\programs\\python\\python312\\lib\\site-packages (from matplotlib) (4.53.1)\n",
      "Requirement already satisfied: kiwisolver>=1.3.1 in c:\\users\\raul\\appdata\\local\\programs\\python\\python312\\lib\\site-packages (from matplotlib) (1.4.5)\n",
      "Requirement already satisfied: numpy>=1.23 in c:\\users\\raul\\appdata\\local\\programs\\python\\python312\\lib\\site-packages (from matplotlib) (2.1.0)\n",
      "Requirement already satisfied: packaging>=20.0 in c:\\users\\raul\\appdata\\roaming\\python\\python312\\site-packages (from matplotlib) (24.1)\n",
      "Requirement already satisfied: pillow>=8 in c:\\users\\raul\\appdata\\local\\programs\\python\\python312\\lib\\site-packages (from matplotlib) (10.4.0)\n",
      "Requirement already satisfied: pyparsing>=2.3.1 in c:\\users\\raul\\appdata\\local\\programs\\python\\python312\\lib\\site-packages (from matplotlib) (3.1.2)\n",
      "Requirement already satisfied: python-dateutil>=2.7 in c:\\users\\raul\\appdata\\roaming\\python\\python312\\site-packages (from matplotlib) (2.9.0.post0)\n",
      "Requirement already satisfied: six>=1.5 in c:\\users\\raul\\appdata\\roaming\\python\\python312\\site-packages (from python-dateutil>=2.7->matplotlib) (1.16.0)\n",
      "Note: you may need to restart the kernel to use updated packages.\n"
     ]
    },
    {
     "name": "stderr",
     "output_type": "stream",
     "text": [
      "\n",
      "[notice] A new release of pip is available: 24.2 -> 24.3.1\n",
      "[notice] To update, run: python.exe -m pip install --upgrade pip\n"
     ]
    }
   ],
   "source": [
    "pip install matplotlib"
   ]
  },
  {
   "cell_type": "markdown",
   "metadata": {},
   "source": [
    "## Oxygen levels\n",
    "\n",
    "Display ten minutes of oxygen levels in your ship."
   ]
  },
  {
   "cell_type": "code",
   "execution_count": 36,
   "metadata": {},
   "outputs": [
    {
     "data": {
      "image/png": "[encoded data removed]",
      "text/plain": [
       "<Figure size 640x480 with 1 Axes>"
      ]
     },
     "metadata": {},
     "output_type": "display_data"
    }
   ],
   "source": [
    "import numpy as np\n",
    "import matplotlib.pyplot as plt\n",
    "data = np.random.default_rng(12345)\n",
    "oxy_nums = data.integers(low=0, high=10, size=10)\n",
    "\n",
    "plt.bar(range(len(oxy_nums)), oxy_nums)\n",
    "plt.show()"
   ]
  },
  {
   "cell_type": "markdown",
   "metadata": {},
   "source": [
    "## Ship's velocity\n",
    "\n",
    "Show the seconds needed to get from 0 to 60 meters per second, given the ship's acceleration in meters per second."
   ]
  },
  {
   "cell_type": "code",
   "execution_count": 37,
   "metadata": {},
   "outputs": [
    {
     "name": "stdout",
     "output_type": "stream",
     "text": [
      "Time to reach desired velocity =  6.122448979591836\n"
     ]
    }
   ],
   "source": [
    "endVelocity = 60\n",
    "startVelocity = 0\n",
    "acceleration = 9.8\n",
    "\n",
    "time = (endVelocity - startVelocity) / acceleration\n",
    "print(\"Time to reach desired velocity = \", time)"
   ]
  },
  {
   "cell_type": "markdown",
   "metadata": {},
   "source": [
    "# Asignacion 2"
   ]
  },
  {
   "cell_type": "markdown",
   "metadata": {},
   "source": [
    "## Valores Promedios\n",
    "Declaremos los valores de las variables de la ecuación"
   ]
  },
  {
   "cell_type": "code",
   "execution_count": 38,
   "metadata": {},
   "outputs": [],
   "source": [
    "F_prom = 50  # libra/pie\n",
    "L_prom = 30  # pie\n",
    "E_prom = 1.5 * 10**8  # psi\n",
    "I_prom = 0.06  # pie^4"
   ]
  },
  {
   "cell_type": "markdown",
   "metadata": {},
   "source": [
    "## Deltas o Cambios de las variables\n",
    "Aquí declararemos los deltas de cada variable para calcular la propagación del error"
   ]
  },
  {
   "cell_type": "code",
   "execution_count": 39,
   "metadata": {},
   "outputs": [],
   "source": [
    "delta_F = 2  # libra/pie\n",
    "delta_L = 0.1  # pie\n",
    "delta_E = 0.01 * 10**8  # psi\n",
    "delta_I = 6 * 10**-4  # pie^4"
   ]
  },
  {
   "cell_type": "markdown",
   "metadata": {},
   "source": [
    "## Cálculo del promedio\n",
    "Colocamos la fórmula original y resolvemos la ecuación inicial, para obtener la función \"y\", y así comparar la respuesta vs el error"
   ]
  },
  {
   "cell_type": "code",
   "execution_count": 40,
   "metadata": {},
   "outputs": [],
   "source": [
    "y = (F_prom * L_prom**4) / (8 * E_prom * I_prom)"
   ]
  },
  {
   "cell_type": "markdown",
   "metadata": {},
   "source": [
    "## Derivadas Parciales\n",
    "declaramos las fórmulas de las derivadas parciales, para su resolución y asi poder proseguir con la fórmula del calculo de delta y"
   ]
  },
  {
   "cell_type": "code",
   "execution_count": 41,
   "metadata": {},
   "outputs": [],
   "source": [
    "dy_dF = L_prom**4 / (8 * E_prom * I_prom)\n",
    "dy_dL = (4 * F_prom * L_prom**3) / (8 * E_prom * I_prom)  \n",
    "dy_dE = - (F_prom * L_prom**4) / (8 * E_prom**2 * I_prom)\n",
    "dy_dI = - (F_prom * L_prom**4) / (8 * E_prom * I_prom**2)"
   ]
  },
  {
   "cell_type": "markdown",
   "metadata": {},
   "source": [
    "## Cálculo de Delta \"y\" o Propagación del error.\n",
    "Con las derivadas parciales ya encontradas, procedemos a declarar la nueva fórmula de propagación del error y asi finalmente poder encontrar la y aproximada"
   ]
  },
  {
   "cell_type": "code",
   "execution_count": 42,
   "metadata": {},
   "outputs": [],
   "source": [
    "delta_y = (dy_dF * delta_F) + (dy_dL * delta_L) + (dy_dE * delta_E) + (dy_dI * delta_I)"
   ]
  },
  {
   "cell_type": "markdown",
   "metadata": {},
   "source": [
    "## Cálculo de error absoluto y relativo\n",
    "Colocamos las fórmulas ya conocidas de error absoluto y error relativo"
   ]
  },
  {
   "cell_type": "code",
   "execution_count": 43,
   "metadata": {},
   "outputs": [],
   "source": [
    "error_absoluto = abs(delta_y)\n",
    "error_relativo = abs(y- delta_y / y) if y != 0 else float('inf')"
   ]
  },
  {
   "cell_type": "markdown",
   "metadata": {},
   "source": [
    "## Cálculo de error relacionado a operaciones matemáticas\n",
    "Aquí aplicamos las siguientes ecuaciones para poder calcular el error en cuanto a las operaciones matemáticas, ya que la suma y diferencia usa la misma fórmula y por tanto da la misma respuesta, se mostrara como una respuesta conjunta."
   ]
  },
  {
   "cell_type": "code",
   "execution_count": 44,
   "metadata": {},
   "outputs": [],
   "source": [
    "error_suma_resta = y + delta_y \n",
    "error_multiplicacion = abs(y) * delta_y + abs(delta_y) * y\n",
    "error_division = (abs(y) * delta_y + abs(delta_y) * y) / (delta_y**2 if delta_y != 0 else float('inf'))"
   ]
  },
  {
   "cell_type": "markdown",
   "metadata": {},
   "source": [
    "## Resultados\n",
    "en esta sección se ponen los \"prints\", para ver la respuestas que da el código"
   ]
  },
  {
   "cell_type": "code",
   "execution_count": 45,
   "metadata": {},
   "outputs": [
    {
     "name": "stdout",
     "output_type": "stream",
     "text": [
      "y : 0.562500\n",
      "Delta y (serie de Taylor): 0.020625\n",
      "Error absoluto: 0.020625\n",
      "Error relativo: 0.525833\n",
      "Errores debido a operaciones:\n",
      "Error en la suma/resta de y promedio y delta y: 0.583125\n",
      "Error en la multiplicación de y promedio y delta y: 0.023203\n",
      "Error en la división de y promedio y delta y: 54.545455\n"
     ]
    }
   ],
   "source": [
    "print(f\"y : {y:.6f}\")\n",
    "print(f\"Delta y (serie de Taylor): {delta_y:.6f}\")\n",
    "print(f\"Error absoluto: {error_absoluto:.6f}\")\n",
    "print(f\"Error relativo: {error_relativo:.6f}\")  \n",
    "print(\"Errores debido a operaciones:\")\n",
    "print(f\"Error en la suma/resta de y promedio y delta y: {error_suma_resta:.6f}\")\n",
    "print(f\"Error en la multiplicación de y promedio y delta y: {error_multiplicacion:.6f}\")\n",
    "print(f\"Error en la división de y promedio y delta y: {error_division:.6f}\")"
   ]
  },
  {
   "cell_type": "markdown",
   "metadata": {},
   "source": [
    "# Asignacion 3"
   ]
  },
  {
   "cell_type": "markdown",
   "metadata": {},
   "source": [
    "## Método de bisección \n",
    "\n",
    "#### Importamos librería, para resolver procesos matemáticos, representar gráficos, importación de widgets para el botón dinámico para escoger los distintos problemas"
   ]
  },
  {
   "cell_type": "code",
   "execution_count": 46,
   "metadata": {},
   "outputs": [],
   "source": [
    "import numpy as np\n",
    "import math\n",
    "import matplotlib.pyplot as plt\n",
    "import ipywidgets as widgets\n",
    "from IPython.display import display"
   ]
  },
  {
   "cell_type": "markdown",
   "metadata": {},
   "source": [
    "## Definimos nuestra funciones\n",
    "$F(1)=Ln ((x^2)+1)-(e^(x/2)*cos*((pi)*x)$\n",
    "\n",
    "\n",
    "$F(2)= 10 *Sen(x)$"
   ]
  },
  {
   "cell_type": "code",
   "execution_count": 47,
   "metadata": {},
   "outputs": [],
   "source": [
    "# Definimos las funciones f1 y f2\n",
    "def f1(x):\n",
    "    return np.log(x**2 + 1) - (np.exp(x / 2) * np.cos(np.pi * x))\n",
    "\n",
    "def f2(x):\n",
    "    return 10 * np.sin(x)"
   ]
  },
  {
   "cell_type": "markdown",
   "metadata": {},
   "source": [
    "## Definimos el método de Bisección y los distintos cálculos que lleva el proceso\n",
    "Definimos el proceso de cálculo de número de iteraciones. Con la fórmula ya despejada de k y logaritmo base 2.\n",
    "Subsecuentemente tenemos los valores del rango inicial (a,b)\n",
    "la tolerancia que nos da el enunciado del problema (tol)\n",
    "y con esto calculamos el número de iteraciones requeridas"
   ]
  },
  {
   "cell_type": "code",
   "execution_count": 48,
   "metadata": {},
   "outputs": [],
   "source": [
    "# Método de Bisección\n",
    "def metodo_biseccion(f, a, b, tol):\n",
    "    iteraciones = []\n",
    "    c = a\n",
    "    iter_count = 0\n",
    "    c_prev = None\n",
    "    \n",
    "    while True:\n",
    "        c = (a + b) / 2.0\n",
    "\n",
    "        if c_prev is not None:\n",
    "            error_abs = abs(c - c_prev)\n",
    "            error_rel = error_abs / abs(c) if c != 0 else float('inf')\n",
    "        else:\n",
    "            error_abs = None\n",
    "            error_rel = None\n",
    "\n",
    "        iteraciones.append((iter_count, c, a, b, error_abs, error_rel))\n",
    "        \n",
    "        # Condición de parada: si el error es menor que la tolerancia\n",
    "        if error_abs is not None and error_abs < tol:\n",
    "            break\n",
    "        \n",
    "        if f(c) == 0:  # Si encuentra una raíz exacta, detenerse\n",
    "            break\n",
    "        elif f(a) * f(c) < 0:\n",
    "            b = c\n",
    "        else:\n",
    "            a = c\n",
    "\n",
    "        c_prev = c\n",
    "        iter_count += 1\n",
    "    \n",
    "    return c, iter_count, iteraciones"
   ]
  },
  {
   "cell_type": "markdown",
   "metadata": {},
   "source": [
    "## Para encontrar la raíz utilizando el metodo de bisección \n",
    "entonces decimos que raiz, conteo_iteraciones, iteracioneses igual al método de bisección y le asignamos los valores que retornan en 3 variables ya declaradas anteriormente, en el que tenemos que raiz que es el valor encontrado (el punto intermedio del rango), el numero de iteraciones del método de bisección,  y la lista de iteraciones, en cuanto al if que sigue es por si la raiz encontrada encontró una raíz con un valor válido"
   ]
  },
  {
   "cell_type": "markdown",
   "metadata": {},
   "source": [
    "## Ciclo else para escoger operación\n",
    "Definimos el ciclo else y definimos parámetros de cada operación "
   ]
  },
  {
   "cell_type": "markdown",
   "metadata": {},
   "source": [
    "## Gráficas e impresiones\n",
    "\n",
    "Aquí definimos la configuración que llevará la grafica y el ciclo for para mostrar los valores de las raíces, error absoluto y error relativo"
   ]
  },
  {
   "cell_type": "code",
   "execution_count": 49,
   "metadata": {},
   "outputs": [
    {
     "data": {
      "application/vnd.jupyter.widget-view+json": {
       "model_id": "e01cbbdb5705408180d45736f9a3a4e9",
       "version_major": 2,
       "version_minor": 0
      },
      "text/plain": [
       "ToggleButtons(description='Fórmula:', options=(('Ln((x^2)+1)-(e^(x/2)*cos(pi*x))', 'f1'), ('10*sin(x)', 'f2'))…"
      ]
     },
     "metadata": {},
     "output_type": "display_data"
    },
    {
     "data": {
      "application/vnd.jupyter.widget-view+json": {
       "model_id": "439af628537344a6a6f57268c741d7c0",
       "version_major": 2,
       "version_minor": 0
      },
      "text/plain": [
       "ToggleButton(value=False, button_style='success', description='Método de Bisección', icon='check', tooltip='Mé…"
      ]
     },
     "metadata": {},
     "output_type": "display_data"
    },
    {
     "data": {
      "application/vnd.jupyter.widget-view+json": {
       "model_id": "f3824db7cc7b4145b2a1c83344283d80",
       "version_major": 2,
       "version_minor": 0
      },
      "text/plain": [
       "Output()"
      ]
     },
     "metadata": {},
     "output_type": "display_data"
    }
   ],
   "source": [
    "# Función para ejecutar el método de bisección basado en la fórmula seleccionada\n",
    "def ejecutar_biseccion(formula):\n",
    "    output.clear_output()\n",
    "    with output:\n",
    "        if formula == 'f1':  # Ln((x^2)+1)-(e^(x/2)*cos(pi*x))\n",
    "            a = 0.1\n",
    "            b = 0.5\n",
    "            tol = 1e-6\n",
    "            raiz, conteo_iteraciones, iteraciones = metodo_biseccion(f1, a, b, tol)\n",
    "        else:  # 10*sin(x)\n",
    "            a = -2\n",
    "            b = 1\n",
    "            tol = 1e-4\n",
    "            raiz, conteo_iteraciones, iteraciones = metodo_biseccion(f2, a, b, tol)\n",
    "        \n",
    "        print(f\"Raíz aproximada: {raiz:.5f}\")\n",
    "        print(f\"Número de iteraciones realizadas: {conteo_iteraciones}\")\n",
    "        \n",
    "        # Imprimir las iteraciones\n",
    "        print(\"\\nRaíces aproximadas en cada iteración:\")\n",
    "        for conteo_iter, c, a_val, b_val, error_abs, error_rel in iteraciones:\n",
    "            error_abs_str = f\"{error_abs:.5e}\" if error_abs is not None else \"N/A\"\n",
    "            error_rel_str = f\"{error_rel:.5e}\" if error_rel is not None else \"N/A\"\n",
    "            print(f\"Iteración {conteo_iter}: c = {c:.5f}, Intervalo = [{a_val:.5f}, {b_val:.5f}], Error Absoluto = {error_abs_str}, Error Relativo = {error_rel_str}\")\n",
    "        \n",
    "        # Graficar la función y las iteraciones\n",
    "        x = np.linspace(a, b, 400)\n",
    "        y = f1(x) if formula == 'f1' else f2(x)\n",
    "\n",
    "        plt.figure(figsize=(10, 6))\n",
    "        plt.plot(x, y, label='f(x)')\n",
    "        plt.axhline(0, color='black', lw=0.5)\n",
    "        plt.title(f'Método de Bisección: {\"Ln((x^2)+1)-(e^(x/2)*cos(pi*x))\" if formula == \"f1\" else \"10*sin(x)\"}')\n",
    "        plt.xlabel('x')\n",
    "        plt.ylabel('f(x)')\n",
    "        plt.grid(True)\n",
    "\n",
    "        for conteo_iter, c, a_val, b_val, error_abs, error_rel in iteraciones:\n",
    "            plt.plot(c, f1(c) if formula == 'f1' else f2(c), 'ro')\n",
    "            plt.text(c, f1(c) if formula == 'f1' else f2(c), f'Iter {conteo_iter}', fontsize=8, ha='right')\n",
    "        \n",
    "        plt.show()\n",
    "\n",
    "# Definir el toggle button\n",
    "toggle_button = widgets.ToggleButton(\n",
    "    value=False,\n",
    "    description='Método de Bisección',\n",
    "    button_style='success',\n",
    "    tooltip='Método de Bisección',\n",
    "    icon='check'\n",
    ")\n",
    "\n",
    "# Selección de la fórmula\n",
    "formula_toggle = widgets.ToggleButtons(\n",
    "    options=[('Ln((x^2)+1)-(e^(x/2)*cos(pi*x))', 'f1'), ('10*sin(x)', 'f2')],\n",
    "    value='f1',\n",
    "    description='Fórmula:'\n",
    ")\n",
    "\n",
    "# Salida de los resultados\n",
    "output = widgets.Output()\n",
    "\n",
    "# Definir el comportamiento al hacer clic en el botón\n",
    "def on_button_click(change):\n",
    "    if change['new']:\n",
    "        ejecutar_biseccion(formula_toggle.value)\n",
    "\n",
    "# Vincular la observación del botón\n",
    "toggle_button.observe(on_button_click, names='value')\n",
    "\n",
    "# Mostrar los widgets\n",
    "display(formula_toggle, toggle_button, output)"
   ]
  },
  {
   "cell_type": "markdown",
   "metadata": {},
   "source": [
    "# Asignacion 4\n"
   ]
  },
  {
   "cell_type": "markdown",
   "metadata": {},
   "source": [
    "## Importamos librerías"
   ]
  },
  {
   "cell_type": "code",
   "execution_count": 50,
   "metadata": {},
   "outputs": [],
   "source": [
    "import numpy as np\n",
    "import matplotlib.pyplot as plt"
   ]
  },
  {
   "cell_type": "markdown",
   "metadata": {},
   "source": [
    "## Definimos funciones\n",
    "La ecuación f(x)\n",
    "y la derivada de esta funciones que la llamaremos df(x), para el método de Newton Raphson."
   ]
  },
  {
   "cell_type": "code",
   "execution_count": 51,
   "metadata": {},
   "outputs": [],
   "source": [
    "def f(x):\n",
    "    return np.log(x**2 + 1) - (np.exp(x / 2) * np.cos(np.pi * x))\n",
    "\n",
    "\n",
    "def df(x):\n",
    "    return (2*x / (x**2 + 1)) - (0.5 * np.exp(x / 2) * np.cos(np.pi * x)) + (np.exp(x / 2) * np.pi * np.sin(np.pi * x))"
   ]
  },
  {
   "cell_type": "markdown",
   "metadata": {},
   "source": [
    "## Para el método de Newton Raphson y con sus respectivos gráficos"
   ]
  },
  {
   "cell_type": "code",
   "execution_count": 52,
   "metadata": {},
   "outputs": [],
   "source": [
    "def mnr(x0, tol, max_iter=1000):\n",
    "    x_i = x0\n",
    "    iteraciones = []\n",
    "    for i in range(max_iter):\n",
    "        f_xi = f(x_i)\n",
    "        df_xi = df(x_i)\n",
    "        x_i1 = x_i - f_xi / df_xi\n",
    "        error = abs(x_i1 - x_i)\n",
    "        iteraciones.append(x_i1)\n",
    "        print(f\"Iteración {i+1}: f(x_i) = {f_xi:.6f}, f'(x_i) = {df_xi:.6f}, x_i+1 = {x_i1:.6f}, Error = {error:.6e}\")\n",
    "        if error < tol:\n",
    "            break\n",
    "        x_i = x_i1\n",
    "    return x_i1, iteraciones"
   ]
  },
  {
   "cell_type": "markdown",
   "metadata": {},
   "source": [
    "## Para el método de la secante con sus respectivos gráficos"
   ]
  },
  {
   "cell_type": "code",
   "execution_count": 53,
   "metadata": {},
   "outputs": [],
   "source": [
    "def sec(x0, x1, tol, max_iter=1000):\n",
    "    iteraciones = []\n",
    "    for i in range(max_iter):\n",
    "        f_x0 = f(x0)\n",
    "        f_x1 = f(x1)\n",
    "        x_n2 = x1 - f_x1 * (x1 - x0) / (f_x1 - f_x0)\n",
    "        error = abs(x_n2 - x1)\n",
    "        iteraciones.append(x_n2)\n",
    "        print(f\"Iteración {i+1}: f(x_i) = {f_x1:.6f}, x_i+1 = {x_n2:.6f}, Error = {error:.6e}\")\n",
    "        if error < tol:\n",
    "            break\n",
    "        x0 = x1\n",
    "        x1 = x_n2\n",
    "    return x_n2, iteraciones"
   ]
  },
  {
   "cell_type": "markdown",
   "metadata": {},
   "source": [
    "## Parámetros de cada método e impresiones de las respuestas"
   ]
  },
  {
   "cell_type": "code",
   "execution_count": 54,
   "metadata": {},
   "outputs": [
    {
     "name": "stdout",
     "output_type": "stream",
     "text": [
      "Método de Newton Raphson:\n",
      "Iteración 1: f(x_i) = 0.724614, f'(x_i) = 5.124069, x_i+1 = 0.458586, Error = 1.414138e-01\n",
      "Iteración 2: f(x_i) = 0.027696, f'(x_i) = 4.594038, x_i+1 = 0.452558, Error = 6.028654e-03\n",
      "Iteración 3: f(x_i) = 0.000121, f'(x_i) = 4.553801, x_i+1 = 0.452531, Error = 2.649038e-05\n",
      "Iteración 4: f(x_i) = 0.000000, f'(x_i) = 4.553621, x_i+1 = 0.452531, Error = 5.226324e-10\n",
      "\n",
      "Raíz encontrada por Newton Raphson: 0.452531\n",
      "\n",
      "Método de la Secante:\n",
      "Iteración 1: f(x_i) = 0.980753, x_i+1 = 0.458550, Error = 1.914496e-01\n",
      "Iteración 2: f(x_i) = 0.027531, x_i+1 = 0.453021, Error = 5.529554e-03\n",
      "Iteración 3: f(x_i) = 0.002231, x_i+1 = 0.452533, Error = 4.876448e-04\n",
      "Iteración 4: f(x_i) = 0.000010, x_i+1 = 0.452531, Error = 2.159699e-06\n",
      "Iteración 5: f(x_i) = 0.000000, x_i+1 = 0.452531, Error = 7.872284e-10\n",
      "\n",
      "Raíz encontrada por la Secante: 0.452531\n"
     ]
    },
    {
     "ename": "KeyboardInterrupt",
     "evalue": "",
     "output_type": "error",
     "traceback": [
      "\u001b[1;31m---------------------------------------------------------------------------\u001b[0m",
      "\u001b[1;31mKeyboardInterrupt\u001b[0m                         Traceback (most recent call last)",
      "Cell \u001b[1;32mIn[54], line 51\u001b[0m\n\u001b[0;32m     48\u001b[0m plt\u001b[38;5;241m.\u001b[39mlegend()\n\u001b[0;32m     50\u001b[0m plt\u001b[38;5;241m.\u001b[39mtight_layout()\n\u001b[1;32m---> 51\u001b[0m \u001b[43mplt\u001b[49m\u001b[38;5;241;43m.\u001b[39;49m\u001b[43mshow\u001b[49m\u001b[43m(\u001b[49m\u001b[43m)\u001b[49m\n",
      "File \u001b[1;32mc:\\Users\\Raul\\AppData\\Local\\Programs\\Python\\Python312\\Lib\\site-packages\\matplotlib\\pyplot.py:612\u001b[0m, in \u001b[0;36mshow\u001b[1;34m(*args, **kwargs)\u001b[0m\n\u001b[0;32m    568\u001b[0m \u001b[38;5;250m\u001b[39m\u001b[38;5;124;03m\"\"\"\u001b[39;00m\n\u001b[0;32m    569\u001b[0m \u001b[38;5;124;03mDisplay all open figures.\u001b[39;00m\n\u001b[0;32m    570\u001b[0m \n\u001b[1;32m   (...)\u001b[0m\n\u001b[0;32m    609\u001b[0m \u001b[38;5;124;03mexplicitly there.\u001b[39;00m\n\u001b[0;32m    610\u001b[0m \u001b[38;5;124;03m\"\"\"\u001b[39;00m\n\u001b[0;32m    611\u001b[0m _warn_if_gui_out_of_main_thread()\n\u001b[1;32m--> 612\u001b[0m \u001b[38;5;28;01mreturn\u001b[39;00m \u001b[43m_get_backend_mod\u001b[49m\u001b[43m(\u001b[49m\u001b[43m)\u001b[49m\u001b[38;5;241;43m.\u001b[39;49m\u001b[43mshow\u001b[49m\u001b[43m(\u001b[49m\u001b[38;5;241;43m*\u001b[39;49m\u001b[43margs\u001b[49m\u001b[43m,\u001b[49m\u001b[43m \u001b[49m\u001b[38;5;241;43m*\u001b[39;49m\u001b[38;5;241;43m*\u001b[39;49m\u001b[43mkwargs\u001b[49m\u001b[43m)\u001b[49m\n",
      "File \u001b[1;32m~\\AppData\\Roaming\\Python\\Python312\\site-packages\\matplotlib_inline\\backend_inline.py:90\u001b[0m, in \u001b[0;36mshow\u001b[1;34m(close, block)\u001b[0m\n\u001b[0;32m     88\u001b[0m \u001b[38;5;28;01mtry\u001b[39;00m:\n\u001b[0;32m     89\u001b[0m     \u001b[38;5;28;01mfor\u001b[39;00m figure_manager \u001b[38;5;129;01min\u001b[39;00m Gcf\u001b[38;5;241m.\u001b[39mget_all_fig_managers():\n\u001b[1;32m---> 90\u001b[0m         \u001b[43mdisplay\u001b[49m\u001b[43m(\u001b[49m\n\u001b[0;32m     91\u001b[0m \u001b[43m            \u001b[49m\u001b[43mfigure_manager\u001b[49m\u001b[38;5;241;43m.\u001b[39;49m\u001b[43mcanvas\u001b[49m\u001b[38;5;241;43m.\u001b[39;49m\u001b[43mfigure\u001b[49m\u001b[43m,\u001b[49m\n\u001b[0;32m     92\u001b[0m \u001b[43m            \u001b[49m\u001b[43mmetadata\u001b[49m\u001b[38;5;241;43m=\u001b[39;49m\u001b[43m_fetch_figure_metadata\u001b[49m\u001b[43m(\u001b[49m\u001b[43mfigure_manager\u001b[49m\u001b[38;5;241;43m.\u001b[39;49m\u001b[43mcanvas\u001b[49m\u001b[38;5;241;43m.\u001b[39;49m\u001b[43mfigure\u001b[49m\u001b[43m)\u001b[49m\n\u001b[0;32m     93\u001b[0m \u001b[43m        \u001b[49m\u001b[43m)\u001b[49m\n\u001b[0;32m     94\u001b[0m \u001b[38;5;28;01mfinally\u001b[39;00m:\n\u001b[0;32m     95\u001b[0m     show\u001b[38;5;241m.\u001b[39m_to_draw \u001b[38;5;241m=\u001b[39m []\n",
      "File \u001b[1;32m~\\AppData\\Roaming\\Python\\Python312\\site-packages\\IPython\\core\\display_functions.py:298\u001b[0m, in \u001b[0;36mdisplay\u001b[1;34m(include, exclude, metadata, transient, display_id, raw, clear, *objs, **kwargs)\u001b[0m\n\u001b[0;32m    296\u001b[0m     publish_display_data(data\u001b[38;5;241m=\u001b[39mobj, metadata\u001b[38;5;241m=\u001b[39mmetadata, \u001b[38;5;241m*\u001b[39m\u001b[38;5;241m*\u001b[39mkwargs)\n\u001b[0;32m    297\u001b[0m \u001b[38;5;28;01melse\u001b[39;00m:\n\u001b[1;32m--> 298\u001b[0m     format_dict, md_dict \u001b[38;5;241m=\u001b[39m \u001b[38;5;28;43mformat\u001b[39;49m\u001b[43m(\u001b[49m\u001b[43mobj\u001b[49m\u001b[43m,\u001b[49m\u001b[43m \u001b[49m\u001b[43minclude\u001b[49m\u001b[38;5;241;43m=\u001b[39;49m\u001b[43minclude\u001b[49m\u001b[43m,\u001b[49m\u001b[43m \u001b[49m\u001b[43mexclude\u001b[49m\u001b[38;5;241;43m=\u001b[39;49m\u001b[43mexclude\u001b[49m\u001b[43m)\u001b[49m\n\u001b[0;32m    299\u001b[0m     \u001b[38;5;28;01mif\u001b[39;00m \u001b[38;5;129;01mnot\u001b[39;00m format_dict:\n\u001b[0;32m    300\u001b[0m         \u001b[38;5;66;03m# nothing to display (e.g. _ipython_display_ took over)\u001b[39;00m\n\u001b[0;32m    301\u001b[0m         \u001b[38;5;28;01mcontinue\u001b[39;00m\n",
      "File \u001b[1;32m~\\AppData\\Roaming\\Python\\Python312\\site-packages\\IPython\\core\\formatters.py:182\u001b[0m, in \u001b[0;36mDisplayFormatter.format\u001b[1;34m(self, obj, include, exclude)\u001b[0m\n\u001b[0;32m    180\u001b[0m md \u001b[38;5;241m=\u001b[39m \u001b[38;5;28;01mNone\u001b[39;00m\n\u001b[0;32m    181\u001b[0m \u001b[38;5;28;01mtry\u001b[39;00m:\n\u001b[1;32m--> 182\u001b[0m     data \u001b[38;5;241m=\u001b[39m \u001b[43mformatter\u001b[49m\u001b[43m(\u001b[49m\u001b[43mobj\u001b[49m\u001b[43m)\u001b[49m\n\u001b[0;32m    183\u001b[0m \u001b[38;5;28;01mexcept\u001b[39;00m:\n\u001b[0;32m    184\u001b[0m     \u001b[38;5;66;03m# FIXME: log the exception\u001b[39;00m\n\u001b[0;32m    185\u001b[0m     \u001b[38;5;28;01mraise\u001b[39;00m\n",
      "File \u001b[1;32m~\\AppData\\Roaming\\Python\\Python312\\site-packages\\decorator.py:232\u001b[0m, in \u001b[0;36mdecorate.<locals>.fun\u001b[1;34m(*args, **kw)\u001b[0m\n\u001b[0;32m    230\u001b[0m \u001b[38;5;28;01mif\u001b[39;00m \u001b[38;5;129;01mnot\u001b[39;00m kwsyntax:\n\u001b[0;32m    231\u001b[0m     args, kw \u001b[38;5;241m=\u001b[39m fix(args, kw, sig)\n\u001b[1;32m--> 232\u001b[0m \u001b[38;5;28;01mreturn\u001b[39;00m \u001b[43mcaller\u001b[49m\u001b[43m(\u001b[49m\u001b[43mfunc\u001b[49m\u001b[43m,\u001b[49m\u001b[43m \u001b[49m\u001b[38;5;241;43m*\u001b[39;49m\u001b[43m(\u001b[49m\u001b[43mextras\u001b[49m\u001b[43m \u001b[49m\u001b[38;5;241;43m+\u001b[39;49m\u001b[43m \u001b[49m\u001b[43margs\u001b[49m\u001b[43m)\u001b[49m\u001b[43m,\u001b[49m\u001b[43m \u001b[49m\u001b[38;5;241;43m*\u001b[39;49m\u001b[38;5;241;43m*\u001b[39;49m\u001b[43mkw\u001b[49m\u001b[43m)\u001b[49m\n",
      "File \u001b[1;32m~\\AppData\\Roaming\\Python\\Python312\\site-packages\\IPython\\core\\formatters.py:226\u001b[0m, in \u001b[0;36mcatch_format_error\u001b[1;34m(method, self, *args, **kwargs)\u001b[0m\n\u001b[0;32m    224\u001b[0m \u001b[38;5;250m\u001b[39m\u001b[38;5;124;03m\"\"\"show traceback on failed format call\"\"\"\u001b[39;00m\n\u001b[0;32m    225\u001b[0m \u001b[38;5;28;01mtry\u001b[39;00m:\n\u001b[1;32m--> 226\u001b[0m     r \u001b[38;5;241m=\u001b[39m \u001b[43mmethod\u001b[49m\u001b[43m(\u001b[49m\u001b[38;5;28;43mself\u001b[39;49m\u001b[43m,\u001b[49m\u001b[43m \u001b[49m\u001b[38;5;241;43m*\u001b[39;49m\u001b[43margs\u001b[49m\u001b[43m,\u001b[49m\u001b[43m \u001b[49m\u001b[38;5;241;43m*\u001b[39;49m\u001b[38;5;241;43m*\u001b[39;49m\u001b[43mkwargs\u001b[49m\u001b[43m)\u001b[49m\n\u001b[0;32m    227\u001b[0m \u001b[38;5;28;01mexcept\u001b[39;00m \u001b[38;5;167;01mNotImplementedError\u001b[39;00m:\n\u001b[0;32m    228\u001b[0m     \u001b[38;5;66;03m# don't warn on NotImplementedErrors\u001b[39;00m\n\u001b[0;32m    229\u001b[0m     \u001b[38;5;28;01mreturn\u001b[39;00m \u001b[38;5;28mself\u001b[39m\u001b[38;5;241m.\u001b[39m_check_return(\u001b[38;5;28;01mNone\u001b[39;00m, args[\u001b[38;5;241m0\u001b[39m])\n",
      "File \u001b[1;32m~\\AppData\\Roaming\\Python\\Python312\\site-packages\\IPython\\core\\formatters.py:343\u001b[0m, in \u001b[0;36mBaseFormatter.__call__\u001b[1;34m(self, obj)\u001b[0m\n\u001b[0;32m    341\u001b[0m     \u001b[38;5;28;01mpass\u001b[39;00m\n\u001b[0;32m    342\u001b[0m \u001b[38;5;28;01melse\u001b[39;00m:\n\u001b[1;32m--> 343\u001b[0m     \u001b[38;5;28;01mreturn\u001b[39;00m \u001b[43mprinter\u001b[49m\u001b[43m(\u001b[49m\u001b[43mobj\u001b[49m\u001b[43m)\u001b[49m\n\u001b[0;32m    344\u001b[0m \u001b[38;5;66;03m# Finally look for special method names\u001b[39;00m\n\u001b[0;32m    345\u001b[0m method \u001b[38;5;241m=\u001b[39m get_real_method(obj, \u001b[38;5;28mself\u001b[39m\u001b[38;5;241m.\u001b[39mprint_method)\n",
      "File \u001b[1;32m~\\AppData\\Roaming\\Python\\Python312\\site-packages\\IPython\\core\\pylabtools.py:170\u001b[0m, in \u001b[0;36mprint_figure\u001b[1;34m(fig, fmt, bbox_inches, base64, **kwargs)\u001b[0m\n\u001b[0;32m    167\u001b[0m     \u001b[38;5;28;01mfrom\u001b[39;00m \u001b[38;5;21;01mmatplotlib\u001b[39;00m\u001b[38;5;21;01m.\u001b[39;00m\u001b[38;5;21;01mbackend_bases\u001b[39;00m \u001b[38;5;28;01mimport\u001b[39;00m FigureCanvasBase\n\u001b[0;32m    168\u001b[0m     FigureCanvasBase(fig)\n\u001b[1;32m--> 170\u001b[0m \u001b[43mfig\u001b[49m\u001b[38;5;241;43m.\u001b[39;49m\u001b[43mcanvas\u001b[49m\u001b[38;5;241;43m.\u001b[39;49m\u001b[43mprint_figure\u001b[49m\u001b[43m(\u001b[49m\u001b[43mbytes_io\u001b[49m\u001b[43m,\u001b[49m\u001b[43m \u001b[49m\u001b[38;5;241;43m*\u001b[39;49m\u001b[38;5;241;43m*\u001b[39;49m\u001b[43mkw\u001b[49m\u001b[43m)\u001b[49m\n\u001b[0;32m    171\u001b[0m data \u001b[38;5;241m=\u001b[39m bytes_io\u001b[38;5;241m.\u001b[39mgetvalue()\n\u001b[0;32m    172\u001b[0m \u001b[38;5;28;01mif\u001b[39;00m fmt \u001b[38;5;241m==\u001b[39m \u001b[38;5;124m'\u001b[39m\u001b[38;5;124msvg\u001b[39m\u001b[38;5;124m'\u001b[39m:\n",
      "File \u001b[1;32mc:\\Users\\Raul\\AppData\\Local\\Programs\\Python\\Python312\\Lib\\site-packages\\matplotlib\\backend_bases.py:2178\u001b[0m, in \u001b[0;36mFigureCanvasBase.print_figure\u001b[1;34m(self, filename, dpi, facecolor, edgecolor, orientation, format, bbox_inches, pad_inches, bbox_extra_artists, backend, **kwargs)\u001b[0m\n\u001b[0;32m   2176\u001b[0m \u001b[38;5;28;01mif\u001b[39;00m bbox_inches:\n\u001b[0;32m   2177\u001b[0m     \u001b[38;5;28;01mif\u001b[39;00m bbox_inches \u001b[38;5;241m==\u001b[39m \u001b[38;5;124m\"\u001b[39m\u001b[38;5;124mtight\u001b[39m\u001b[38;5;124m\"\u001b[39m:\n\u001b[1;32m-> 2178\u001b[0m         bbox_inches \u001b[38;5;241m=\u001b[39m \u001b[38;5;28;43mself\u001b[39;49m\u001b[38;5;241;43m.\u001b[39;49m\u001b[43mfigure\u001b[49m\u001b[38;5;241;43m.\u001b[39;49m\u001b[43mget_tightbbox\u001b[49m\u001b[43m(\u001b[49m\n\u001b[0;32m   2179\u001b[0m \u001b[43m            \u001b[49m\u001b[43mrenderer\u001b[49m\u001b[43m,\u001b[49m\u001b[43m \u001b[49m\u001b[43mbbox_extra_artists\u001b[49m\u001b[38;5;241;43m=\u001b[39;49m\u001b[43mbbox_extra_artists\u001b[49m\u001b[43m)\u001b[49m\n\u001b[0;32m   2180\u001b[0m         \u001b[38;5;28;01mif\u001b[39;00m (\u001b[38;5;28misinstance\u001b[39m(layout_engine, ConstrainedLayoutEngine) \u001b[38;5;129;01mand\u001b[39;00m\n\u001b[0;32m   2181\u001b[0m                 pad_inches \u001b[38;5;241m==\u001b[39m \u001b[38;5;124m\"\u001b[39m\u001b[38;5;124mlayout\u001b[39m\u001b[38;5;124m\"\u001b[39m):\n\u001b[0;32m   2182\u001b[0m             h_pad \u001b[38;5;241m=\u001b[39m layout_engine\u001b[38;5;241m.\u001b[39mget()[\u001b[38;5;124m\"\u001b[39m\u001b[38;5;124mh_pad\u001b[39m\u001b[38;5;124m\"\u001b[39m]\n",
      "File \u001b[1;32mc:\\Users\\Raul\\AppData\\Local\\Programs\\Python\\Python312\\Lib\\site-packages\\matplotlib\\_api\\deprecation.py:457\u001b[0m, in \u001b[0;36mmake_keyword_only.<locals>.wrapper\u001b[1;34m(*args, **kwargs)\u001b[0m\n\u001b[0;32m    451\u001b[0m \u001b[38;5;28;01mif\u001b[39;00m \u001b[38;5;28mlen\u001b[39m(args) \u001b[38;5;241m>\u001b[39m name_idx:\n\u001b[0;32m    452\u001b[0m     warn_deprecated(\n\u001b[0;32m    453\u001b[0m         since, message\u001b[38;5;241m=\u001b[39m\u001b[38;5;124m\"\u001b[39m\u001b[38;5;124mPassing the \u001b[39m\u001b[38;5;132;01m%(name)s\u001b[39;00m\u001b[38;5;124m \u001b[39m\u001b[38;5;132;01m%(obj_type)s\u001b[39;00m\u001b[38;5;124m \u001b[39m\u001b[38;5;124m\"\u001b[39m\n\u001b[0;32m    454\u001b[0m         \u001b[38;5;124m\"\u001b[39m\u001b[38;5;124mpositionally is deprecated since Matplotlib \u001b[39m\u001b[38;5;132;01m%(since)s\u001b[39;00m\u001b[38;5;124m; the \u001b[39m\u001b[38;5;124m\"\u001b[39m\n\u001b[0;32m    455\u001b[0m         \u001b[38;5;124m\"\u001b[39m\u001b[38;5;124mparameter will become keyword-only \u001b[39m\u001b[38;5;132;01m%(removal)s\u001b[39;00m\u001b[38;5;124m.\u001b[39m\u001b[38;5;124m\"\u001b[39m,\n\u001b[0;32m    456\u001b[0m         name\u001b[38;5;241m=\u001b[39mname, obj_type\u001b[38;5;241m=\u001b[39m\u001b[38;5;124mf\u001b[39m\u001b[38;5;124m\"\u001b[39m\u001b[38;5;124mparameter of \u001b[39m\u001b[38;5;132;01m{\u001b[39;00mfunc\u001b[38;5;241m.\u001b[39m\u001b[38;5;18m__name__\u001b[39m\u001b[38;5;132;01m}\u001b[39;00m\u001b[38;5;124m()\u001b[39m\u001b[38;5;124m\"\u001b[39m)\n\u001b[1;32m--> 457\u001b[0m \u001b[38;5;28;01mreturn\u001b[39;00m \u001b[43mfunc\u001b[49m\u001b[43m(\u001b[49m\u001b[38;5;241;43m*\u001b[39;49m\u001b[43margs\u001b[49m\u001b[43m,\u001b[49m\u001b[43m \u001b[49m\u001b[38;5;241;43m*\u001b[39;49m\u001b[38;5;241;43m*\u001b[39;49m\u001b[43mkwargs\u001b[49m\u001b[43m)\u001b[49m\n",
      "File \u001b[1;32mc:\\Users\\Raul\\AppData\\Local\\Programs\\Python\\Python312\\Lib\\site-packages\\matplotlib\\figure.py:1787\u001b[0m, in \u001b[0;36mFigureBase.get_tightbbox\u001b[1;34m(self, renderer, bbox_extra_artists)\u001b[0m\n\u001b[0;32m   1783\u001b[0m \u001b[38;5;28;01mif\u001b[39;00m ax\u001b[38;5;241m.\u001b[39mget_visible():\n\u001b[0;32m   1784\u001b[0m     \u001b[38;5;66;03m# some Axes don't take the bbox_extra_artists kwarg so we\u001b[39;00m\n\u001b[0;32m   1785\u001b[0m     \u001b[38;5;66;03m# need this conditional....\u001b[39;00m\n\u001b[0;32m   1786\u001b[0m     \u001b[38;5;28;01mtry\u001b[39;00m:\n\u001b[1;32m-> 1787\u001b[0m         bbox \u001b[38;5;241m=\u001b[39m \u001b[43max\u001b[49m\u001b[38;5;241;43m.\u001b[39;49m\u001b[43mget_tightbbox\u001b[49m\u001b[43m(\u001b[49m\n\u001b[0;32m   1788\u001b[0m \u001b[43m            \u001b[49m\u001b[43mrenderer\u001b[49m\u001b[43m,\u001b[49m\u001b[43m \u001b[49m\u001b[43mbbox_extra_artists\u001b[49m\u001b[38;5;241;43m=\u001b[39;49m\u001b[43mbbox_extra_artists\u001b[49m\u001b[43m)\u001b[49m\n\u001b[0;32m   1789\u001b[0m     \u001b[38;5;28;01mexcept\u001b[39;00m \u001b[38;5;167;01mTypeError\u001b[39;00m:\n\u001b[0;32m   1790\u001b[0m         bbox \u001b[38;5;241m=\u001b[39m ax\u001b[38;5;241m.\u001b[39mget_tightbbox(renderer)\n",
      "File \u001b[1;32mc:\\Users\\Raul\\AppData\\Local\\Programs\\Python\\Python312\\Lib\\site-packages\\matplotlib\\_api\\deprecation.py:457\u001b[0m, in \u001b[0;36mmake_keyword_only.<locals>.wrapper\u001b[1;34m(*args, **kwargs)\u001b[0m\n\u001b[0;32m    451\u001b[0m \u001b[38;5;28;01mif\u001b[39;00m \u001b[38;5;28mlen\u001b[39m(args) \u001b[38;5;241m>\u001b[39m name_idx:\n\u001b[0;32m    452\u001b[0m     warn_deprecated(\n\u001b[0;32m    453\u001b[0m         since, message\u001b[38;5;241m=\u001b[39m\u001b[38;5;124m\"\u001b[39m\u001b[38;5;124mPassing the \u001b[39m\u001b[38;5;132;01m%(name)s\u001b[39;00m\u001b[38;5;124m \u001b[39m\u001b[38;5;132;01m%(obj_type)s\u001b[39;00m\u001b[38;5;124m \u001b[39m\u001b[38;5;124m\"\u001b[39m\n\u001b[0;32m    454\u001b[0m         \u001b[38;5;124m\"\u001b[39m\u001b[38;5;124mpositionally is deprecated since Matplotlib \u001b[39m\u001b[38;5;132;01m%(since)s\u001b[39;00m\u001b[38;5;124m; the \u001b[39m\u001b[38;5;124m\"\u001b[39m\n\u001b[0;32m    455\u001b[0m         \u001b[38;5;124m\"\u001b[39m\u001b[38;5;124mparameter will become keyword-only \u001b[39m\u001b[38;5;132;01m%(removal)s\u001b[39;00m\u001b[38;5;124m.\u001b[39m\u001b[38;5;124m\"\u001b[39m,\n\u001b[0;32m    456\u001b[0m         name\u001b[38;5;241m=\u001b[39mname, obj_type\u001b[38;5;241m=\u001b[39m\u001b[38;5;124mf\u001b[39m\u001b[38;5;124m\"\u001b[39m\u001b[38;5;124mparameter of \u001b[39m\u001b[38;5;132;01m{\u001b[39;00mfunc\u001b[38;5;241m.\u001b[39m\u001b[38;5;18m__name__\u001b[39m\u001b[38;5;132;01m}\u001b[39;00m\u001b[38;5;124m()\u001b[39m\u001b[38;5;124m\"\u001b[39m)\n\u001b[1;32m--> 457\u001b[0m \u001b[38;5;28;01mreturn\u001b[39;00m \u001b[43mfunc\u001b[49m\u001b[43m(\u001b[49m\u001b[38;5;241;43m*\u001b[39;49m\u001b[43margs\u001b[49m\u001b[43m,\u001b[49m\u001b[43m \u001b[49m\u001b[38;5;241;43m*\u001b[39;49m\u001b[38;5;241;43m*\u001b[39;49m\u001b[43mkwargs\u001b[49m\u001b[43m)\u001b[49m\n",
      "File \u001b[1;32mc:\\Users\\Raul\\AppData\\Local\\Programs\\Python\\Python312\\Lib\\site-packages\\matplotlib\\axes\\_base.py:4479\u001b[0m, in \u001b[0;36m_AxesBase.get_tightbbox\u001b[1;34m(self, renderer, call_axes_locator, bbox_extra_artists, for_layout_only)\u001b[0m\n\u001b[0;32m   4477\u001b[0m         \u001b[38;5;28;01mif\u001b[39;00m ba:\n\u001b[0;32m   4478\u001b[0m             bb\u001b[38;5;241m.\u001b[39mappend(ba)\n\u001b[1;32m-> 4479\u001b[0m \u001b[38;5;28;43mself\u001b[39;49m\u001b[38;5;241;43m.\u001b[39;49m\u001b[43m_update_title_position\u001b[49m\u001b[43m(\u001b[49m\u001b[43mrenderer\u001b[49m\u001b[43m)\u001b[49m\n\u001b[0;32m   4480\u001b[0m axbbox \u001b[38;5;241m=\u001b[39m \u001b[38;5;28mself\u001b[39m\u001b[38;5;241m.\u001b[39mget_window_extent(renderer)\n\u001b[0;32m   4481\u001b[0m bb\u001b[38;5;241m.\u001b[39mappend(axbbox)\n",
      "File \u001b[1;32mc:\\Users\\Raul\\AppData\\Local\\Programs\\Python\\Python312\\Lib\\site-packages\\matplotlib\\axes\\_base.py:3045\u001b[0m, in \u001b[0;36m_AxesBase._update_title_position\u001b[1;34m(self, renderer)\u001b[0m\n\u001b[0;32m   3043\u001b[0m top \u001b[38;5;241m=\u001b[39m \u001b[38;5;28mmax\u001b[39m(top, bb\u001b[38;5;241m.\u001b[39mymax)\n\u001b[0;32m   3044\u001b[0m \u001b[38;5;28;01mif\u001b[39;00m title\u001b[38;5;241m.\u001b[39mget_text():\n\u001b[1;32m-> 3045\u001b[0m     \u001b[43max\u001b[49m\u001b[38;5;241;43m.\u001b[39;49m\u001b[43myaxis\u001b[49m\u001b[38;5;241;43m.\u001b[39;49m\u001b[43mget_tightbbox\u001b[49m\u001b[43m(\u001b[49m\u001b[43mrenderer\u001b[49m\u001b[43m)\u001b[49m  \u001b[38;5;66;03m# update offsetText\u001b[39;00m\n\u001b[0;32m   3046\u001b[0m     \u001b[38;5;28;01mif\u001b[39;00m ax\u001b[38;5;241m.\u001b[39myaxis\u001b[38;5;241m.\u001b[39moffsetText\u001b[38;5;241m.\u001b[39mget_text():\n\u001b[0;32m   3047\u001b[0m         bb \u001b[38;5;241m=\u001b[39m ax\u001b[38;5;241m.\u001b[39myaxis\u001b[38;5;241m.\u001b[39moffsetText\u001b[38;5;241m.\u001b[39mget_tightbbox(renderer)\n",
      "File \u001b[1;32mc:\\Users\\Raul\\AppData\\Local\\Programs\\Python\\Python312\\Lib\\site-packages\\matplotlib\\axis.py:1370\u001b[0m, in \u001b[0;36mAxis.get_tightbbox\u001b[1;34m(self, renderer, for_layout_only)\u001b[0m\n\u001b[0;32m   1368\u001b[0m \u001b[38;5;28;01mif\u001b[39;00m renderer \u001b[38;5;129;01mis\u001b[39;00m \u001b[38;5;28;01mNone\u001b[39;00m:\n\u001b[0;32m   1369\u001b[0m     renderer \u001b[38;5;241m=\u001b[39m \u001b[38;5;28mself\u001b[39m\u001b[38;5;241m.\u001b[39mfigure\u001b[38;5;241m.\u001b[39m_get_renderer()\n\u001b[1;32m-> 1370\u001b[0m ticks_to_draw \u001b[38;5;241m=\u001b[39m \u001b[38;5;28;43mself\u001b[39;49m\u001b[38;5;241;43m.\u001b[39;49m\u001b[43m_update_ticks\u001b[49m\u001b[43m(\u001b[49m\u001b[43m)\u001b[49m\n\u001b[0;32m   1372\u001b[0m \u001b[38;5;28mself\u001b[39m\u001b[38;5;241m.\u001b[39m_update_label_position(renderer)\n\u001b[0;32m   1374\u001b[0m \u001b[38;5;66;03m# go back to just this axis's tick labels\u001b[39;00m\n",
      "File \u001b[1;32mc:\\Users\\Raul\\AppData\\Local\\Programs\\Python\\Python312\\Lib\\site-packages\\matplotlib\\axis.py:1300\u001b[0m, in \u001b[0;36mAxis._update_ticks\u001b[1;34m(self)\u001b[0m\n\u001b[0;32m   1295\u001b[0m \u001b[38;5;28;01mdef\u001b[39;00m \u001b[38;5;21m_update_ticks\u001b[39m(\u001b[38;5;28mself\u001b[39m):\n\u001b[0;32m   1296\u001b[0m \u001b[38;5;250m    \u001b[39m\u001b[38;5;124;03m\"\"\"\u001b[39;00m\n\u001b[0;32m   1297\u001b[0m \u001b[38;5;124;03m    Update ticks (position and labels) using the current data interval of\u001b[39;00m\n\u001b[0;32m   1298\u001b[0m \u001b[38;5;124;03m    the axes.  Return the list of ticks that will be drawn.\u001b[39;00m\n\u001b[0;32m   1299\u001b[0m \u001b[38;5;124;03m    \"\"\"\u001b[39;00m\n\u001b[1;32m-> 1300\u001b[0m     major_locs \u001b[38;5;241m=\u001b[39m \u001b[38;5;28;43mself\u001b[39;49m\u001b[38;5;241;43m.\u001b[39;49m\u001b[43mget_majorticklocs\u001b[49m\u001b[43m(\u001b[49m\u001b[43m)\u001b[49m\n\u001b[0;32m   1301\u001b[0m     major_labels \u001b[38;5;241m=\u001b[39m \u001b[38;5;28mself\u001b[39m\u001b[38;5;241m.\u001b[39mmajor\u001b[38;5;241m.\u001b[39mformatter\u001b[38;5;241m.\u001b[39mformat_ticks(major_locs)\n\u001b[0;32m   1302\u001b[0m     major_ticks \u001b[38;5;241m=\u001b[39m \u001b[38;5;28mself\u001b[39m\u001b[38;5;241m.\u001b[39mget_major_ticks(\u001b[38;5;28mlen\u001b[39m(major_locs))\n",
      "File \u001b[1;32mc:\\Users\\Raul\\AppData\\Local\\Programs\\Python\\Python312\\Lib\\site-packages\\matplotlib\\axis.py:1531\u001b[0m, in \u001b[0;36mAxis.get_majorticklocs\u001b[1;34m(self)\u001b[0m\n\u001b[0;32m   1529\u001b[0m \u001b[38;5;28;01mdef\u001b[39;00m \u001b[38;5;21mget_majorticklocs\u001b[39m(\u001b[38;5;28mself\u001b[39m):\n\u001b[0;32m   1530\u001b[0m \u001b[38;5;250m    \u001b[39m\u001b[38;5;124;03m\"\"\"Return this Axis' major tick locations in data coordinates.\"\"\"\u001b[39;00m\n\u001b[1;32m-> 1531\u001b[0m     \u001b[38;5;28;01mreturn\u001b[39;00m \u001b[38;5;28;43mself\u001b[39;49m\u001b[38;5;241;43m.\u001b[39;49m\u001b[43mmajor\u001b[49m\u001b[38;5;241;43m.\u001b[39;49m\u001b[43mlocator\u001b[49m\u001b[43m(\u001b[49m\u001b[43m)\u001b[49m\n",
      "File \u001b[1;32mc:\\Users\\Raul\\AppData\\Local\\Programs\\Python\\Python312\\Lib\\site-packages\\matplotlib\\ticker.py:2171\u001b[0m, in \u001b[0;36mMaxNLocator.__call__\u001b[1;34m(self)\u001b[0m\n\u001b[0;32m   2169\u001b[0m \u001b[38;5;28;01mdef\u001b[39;00m \u001b[38;5;21m__call__\u001b[39m(\u001b[38;5;28mself\u001b[39m):\n\u001b[0;32m   2170\u001b[0m     vmin, vmax \u001b[38;5;241m=\u001b[39m \u001b[38;5;28mself\u001b[39m\u001b[38;5;241m.\u001b[39maxis\u001b[38;5;241m.\u001b[39mget_view_interval()\n\u001b[1;32m-> 2171\u001b[0m     \u001b[38;5;28;01mreturn\u001b[39;00m \u001b[38;5;28;43mself\u001b[39;49m\u001b[38;5;241;43m.\u001b[39;49m\u001b[43mtick_values\u001b[49m\u001b[43m(\u001b[49m\u001b[43mvmin\u001b[49m\u001b[43m,\u001b[49m\u001b[43m \u001b[49m\u001b[43mvmax\u001b[49m\u001b[43m)\u001b[49m\n",
      "File \u001b[1;32mc:\\Users\\Raul\\AppData\\Local\\Programs\\Python\\Python312\\Lib\\site-packages\\matplotlib\\ticker.py:2179\u001b[0m, in \u001b[0;36mMaxNLocator.tick_values\u001b[1;34m(self, vmin, vmax)\u001b[0m\n\u001b[0;32m   2176\u001b[0m     vmin \u001b[38;5;241m=\u001b[39m \u001b[38;5;241m-\u001b[39mvmax\n\u001b[0;32m   2177\u001b[0m vmin, vmax \u001b[38;5;241m=\u001b[39m mtransforms\u001b[38;5;241m.\u001b[39mnonsingular(\n\u001b[0;32m   2178\u001b[0m     vmin, vmax, expander\u001b[38;5;241m=\u001b[39m\u001b[38;5;241m1e-13\u001b[39m, tiny\u001b[38;5;241m=\u001b[39m\u001b[38;5;241m1e-14\u001b[39m)\n\u001b[1;32m-> 2179\u001b[0m locs \u001b[38;5;241m=\u001b[39m \u001b[38;5;28;43mself\u001b[39;49m\u001b[38;5;241;43m.\u001b[39;49m\u001b[43m_raw_ticks\u001b[49m\u001b[43m(\u001b[49m\u001b[43mvmin\u001b[49m\u001b[43m,\u001b[49m\u001b[43m \u001b[49m\u001b[43mvmax\u001b[49m\u001b[43m)\u001b[49m\n\u001b[0;32m   2181\u001b[0m prune \u001b[38;5;241m=\u001b[39m \u001b[38;5;28mself\u001b[39m\u001b[38;5;241m.\u001b[39m_prune\n\u001b[0;32m   2182\u001b[0m \u001b[38;5;28;01mif\u001b[39;00m prune \u001b[38;5;241m==\u001b[39m \u001b[38;5;124m'\u001b[39m\u001b[38;5;124mlower\u001b[39m\u001b[38;5;124m'\u001b[39m:\n",
      "File \u001b[1;32mc:\\Users\\Raul\\AppData\\Local\\Programs\\Python\\Python312\\Lib\\site-packages\\matplotlib\\ticker.py:2162\u001b[0m, in \u001b[0;36mMaxNLocator._raw_ticks\u001b[1;34m(self, vmin, vmax)\u001b[0m\n\u001b[0;32m   2160\u001b[0m low \u001b[38;5;241m=\u001b[39m edge\u001b[38;5;241m.\u001b[39mle(_vmin \u001b[38;5;241m-\u001b[39m best_vmin)\n\u001b[0;32m   2161\u001b[0m high \u001b[38;5;241m=\u001b[39m edge\u001b[38;5;241m.\u001b[39mge(_vmax \u001b[38;5;241m-\u001b[39m best_vmin)\n\u001b[1;32m-> 2162\u001b[0m ticks \u001b[38;5;241m=\u001b[39m \u001b[43mnp\u001b[49m\u001b[38;5;241;43m.\u001b[39;49m\u001b[43marange\u001b[49m\u001b[43m(\u001b[49m\u001b[43mlow\u001b[49m\u001b[43m,\u001b[49m\u001b[43m \u001b[49m\u001b[43mhigh\u001b[49m\u001b[43m \u001b[49m\u001b[38;5;241;43m+\u001b[39;49m\u001b[43m \u001b[49m\u001b[38;5;241;43m1\u001b[39;49m\u001b[43m)\u001b[49m \u001b[38;5;241m*\u001b[39m step \u001b[38;5;241m+\u001b[39m best_vmin\n\u001b[0;32m   2163\u001b[0m \u001b[38;5;66;03m# Count only the ticks that will be displayed.\u001b[39;00m\n\u001b[0;32m   2164\u001b[0m nticks \u001b[38;5;241m=\u001b[39m ((ticks \u001b[38;5;241m<\u001b[39m\u001b[38;5;241m=\u001b[39m _vmax) \u001b[38;5;241m&\u001b[39m (ticks \u001b[38;5;241m>\u001b[39m\u001b[38;5;241m=\u001b[39m _vmin))\u001b[38;5;241m.\u001b[39msum()\n",
      "\u001b[1;31mKeyboardInterrupt\u001b[0m: "
     ]
    }
   ],
   "source": [
    "# Parámetros de Newton Raphson\n",
    "tol= 1e-6\n",
    "x0_mnr=0.6\n",
    "\n",
    "\n",
    "x0_sec = 0.6\n",
    "x1_sec = 0.65\n",
    "\n",
    "# Método de Newton Raphson\n",
    "print(\"Método de Newton Raphson:\")\n",
    "raiz_mnr, iteraciones_newton = mnr(x0_mnr, tol)\n",
    "print(f\"\\nRaíz encontrada por Newton Raphson: {raiz_mnr:.6f}\")\n",
    "\n",
    "# Método de la Secante\n",
    "print(\"\\nMétodo de la Secante:\")\n",
    "raiz_secante, iteraciones_secante = sec(x0_sec, x1_sec, tol)\n",
    "print(f\"\\nRaíz encontrada por la Secante: {raiz_secante:.6f}\")\n",
    "\n",
    "# Graficar la función y las iteraciones\n",
    "x_vals = np.linspace(-1, 1, 400)\n",
    "y_vals = f(x_vals)\n",
    "\n",
    "# Gráfico para Newton-Raphson\n",
    "plt.figure(figsize=(12, 6))\n",
    "plt.subplot(1, 2, 1)\n",
    "plt.plot(x_vals, y_vals, label=\"f(x)\")\n",
    "plt.axhline(0, color='black', lw=0.5)\n",
    "plt.title('Método de Newton Raphson')\n",
    "plt.xlabel('x')\n",
    "plt.ylabel('f(x)')\n",
    "plt.grid(True)\n",
    "for i, xn in enumerate(iteraciones_newton):\n",
    "    plt.plot(xn, f(xn), 'ro')  # Marca las aproximaciones\n",
    "    plt.text(xn, f(xn), f'Iter {i+1}', fontsize=8, ha='right')\n",
    "plt.legend()\n",
    "\n",
    "# Gráfico para la Secante\n",
    "plt.subplot(1, 2, 2)\n",
    "plt.plot(x_vals, y_vals, label=\"f(x)\")\n",
    "plt.axhline(0, color='black', lw=0.5)\n",
    "plt.title('Método de la Secante')\n",
    "plt.xlabel('x')\n",
    "plt.ylabel('f(x)')\n",
    "plt.grid(True)\n",
    "for i, xn in enumerate(iteraciones_secante):\n",
    "    plt.plot(xn, f(xn), 'bo')  # Marca las aproximaciones\n",
    "    plt.text(xn, f(xn), f'Iter {i+1}', fontsize=8, ha='right')\n",
    "plt.legend()\n",
    "\n",
    "plt.tight_layout()\n",
    "plt.show()"
   ]
  },
  {
   "cell_type": "markdown",
   "metadata": {},
   "source": [
    "# Asignacion 5"
   ]
  },
  {
   "cell_type": "markdown",
   "metadata": {},
   "source": [
    "#### Newton Raphson Multivariable y Gauss Seidel"
   ]
  },
  {
   "cell_type": "markdown",
   "metadata": {},
   "source": [
    "## definimos las ecuaciones\n",
    "\n",
    "### Para calcular valores de $X_1, X_2, X_3$"
   ]
  },
  {
   "cell_type": "code",
   "execution_count": null,
   "metadata": {},
   "outputs": [],
   "source": [
    "import numpy as np\n",
    "\n",
    "\n",
    "def sistema(valores):\n",
    "    x1, x2, x3 = valores\n",
    "    ec1 = x1**2 + 2*x2**2 + np.exp(x1 + x2) - 6.1718 + x1*x3\n",
    "    ec2 = 10*x2 + x2*x3\n",
    "    ec3 = np.sin(x1 * x3) + x2**2 - 1.141 + x1\n",
    "    return np.array([ec1, ec2, ec3])"
   ]
  },
  {
   "cell_type": "markdown",
   "metadata": {},
   "source": [
    "## Función para calcular el Jacobiano \n",
    "\n",
    "## Definimos el Jacobiano y las derivadas parciales de cada ecuacion con respecto a las variables. Y definimos el retorno de la matriz J."
   ]
  },
  {
   "cell_type": "code",
   "execution_count": null,
   "metadata": {},
   "outputs": [],
   "source": [
    "def jacobiano(valores):\n",
    "    x1, x2, x3 = valores\n",
    "    # Derivadas parciales ec1\n",
    "    df1_dx1 = 2*x1 + x3 + np.exp(x1 + x2)\n",
    "    df1_dx2 = 4*x2 + np.exp(x1 + x2)\n",
    "    df1_dx3 = x1\n",
    "\n",
    "    # Derivadas parciales ec2\n",
    "    df2_dx1 = 0\n",
    "    df2_dx2 = 10 + x3\n",
    "    df2_dx3 = x2\n",
    "\n",
    "    # Derivadas parciales ec3\n",
    "    df3_dx1 = x3 * np.cos(x1 * x3) + 1\n",
    "    df3_dx2 = 2*x2\n",
    "    df3_dx3 = x1 * np.cos(x1 * x3)\n",
    "        \n",
    "    return np.array([[df1_dx1, df1_dx2, df1_dx3],\n",
    "                     [df2_dx1, df2_dx2, df2_dx3],\n",
    "                     [df3_dx1, df3_dx2, df3_dx3]])"
   ]
  },
  {
   "cell_type": "markdown",
   "metadata": {},
   "source": [
    "## Declaramos los parametros del newton raphson multivariable"
   ]
  },
  {
   "cell_type": "code",
   "execution_count": null,
   "metadata": {},
   "outputs": [],
   "source": [
    "def mnrm(raiz, tol=1e-6, max_iter=100):\n",
    "    valores = np.array(raiz)\n",
    "    \n",
    "    print(f\"{'Iteración':<10}{'x1':<15}{'x2':<15}{'x3':<15}{'Norma':<15}\")\n",
    "    print(\"-\" * 60)\n",
    "    \n",
    "    for iteration in range(max_iter):\n",
    "        F = sistema(valores)\n",
    "        J = jacobiano(valores)\n",
    "        \n",
    "        \n",
    "        print(f\"Jacobiano en la iteración {iteration+1}:\\n{J}\\n\")\n",
    "        \n",
    "        \n",
    "        delta = np.linalg.solve(J, -F)\n",
    "        \n",
    "        \n",
    "        valores = valores + delta\n",
    "        \n",
    "        \n",
    "        print(f\"{iteration + 1:<10}{valores[0]:<15.10f}{valores[1]:<15.10f}{valores[2]:<15.10f}{np.linalg.norm(delta):<15.8f}\")\n",
    "        \n",
    "        \n",
    "        if np.linalg.norm(delta) < tol:\n",
    "            print(f\"\\nConvergió en {iteration + 1} iteraciones\")\n",
    "            return valores\n",
    "    \n",
    "    print(\"No convergió en el número máximo de iteraciones\")\n",
    "    return valores"
   ]
  },
  {
   "cell_type": "markdown",
   "metadata": {},
   "source": [
    "### Método de Gauss Seidel\n",
    "\n",
    "#### Definimos ecuaciones para el sistema"
   ]
  },
  {
   "cell_type": "code",
   "execution_count": null,
   "metadata": {},
   "outputs": [],
   "source": [
    "import numpy as np\n",
    "\n",
    "\n",
    "A = np.array([[25, 5, 1],\n",
    "              [64, 8, 1],\n",
    "              [144, 12, 1]])\n",
    "\n",
    "# términos independientes\n",
    "b = np.array([106.8, 177.2, 279.2])\n",
    "\n",
    "\n",
    "x = np.zeros_like([1,2,5])\n",
    "\n",
    "# Número máximo de iteraciones\n",
    "max_iter = 100\n",
    "\n",
    "# Tolerancia para la convergencia\n",
    "tol = 1e-6"
   ]
  },
  {
   "cell_type": "markdown",
   "metadata": {},
   "source": [
    "## Definimos los parametros del Gauss Seidel"
   ]
  },
  {
   "cell_type": "code",
   "execution_count": null,
   "metadata": {},
   "outputs": [],
   "source": [
    "def gs(A, b, x, tol=1e-6, max_iter=100):\n",
    "    n = len(b)\n",
    "\n",
    "    print(f'Iteracion inicial: x1 = {x[0]:.5f}, x2 = {x[1]:.5f}, x3 = {x[2]:.5f}')\n",
    "\n",
    "    for k in range(max_iter):\n",
    "        x_new = np.copy(x)\n",
    "\n",
    "        \n",
    "        x_new[0] = (b[0] - A[0,1]*x[1] - A[0,2]*x[2]) / A[0,0]\n",
    "        x_new[1] = (b[1] - A[1,0]*x_new[0] - A[1,2]*x[2]) / A[1,1]\n",
    "        x_new[2] = (b[2] - A[2,0]*x_new[0] - A[2,1]*x_new[1]) / A[2,2]\n",
    "\n",
    "        \n",
    "        error_rel = np.abs((x_new - x) / x_new) * 100\n",
    "\n",
    "        #\n",
    "        print(f'\\nIteración {k+1}:')\n",
    "        print(f'x1 = {x_new[0]:.5f}, x2 = {x_new[1]:.5f}, x3 = {x_new[2]:.5f}')\n",
    "        print(f'Error relativo: x1 = {error_rel[0]:.5f}%, x2 = {error_rel[1]:.5f}%, x3 = {error_rel[2]:.5f}%')\n",
    "\n",
    "        \n",
    "        if np.linalg.norm(x_new - x, ord=np.inf) < tol:\n",
    "            print(f'\\nConvergió en {k+1} iteraciones.')\n",
    "            return x_new\n",
    "\n",
    "        \n",
    "        x = x_new\n",
    "\n",
    "    print('No convergió dentro del número máximo de iteraciones.')\n",
    "    return x"
   ]
  },
  {
   "cell_type": "markdown",
   "metadata": {},
   "source": [
    "## En este código quise implementar preguntar al usuario que método usar. Ya que son 2 casos para demostrar"
   ]
  },
  {
   "cell_type": "code",
   "execution_count": null,
   "metadata": {},
   "outputs": [
    {
     "name": "stdout",
     "output_type": "stream",
     "text": [
      "Selecciona el método que deseas usar para resolver el sistema de ecuaciones:\n",
      "1. Newton Raphson Multivariable\n",
      "2. Gauss Seidel\n",
      "Iteracion inicial: x1 = 1.00000, x2 = 2.00000, x3 = 5.00000\n",
      "\n",
      "Iteración 1:\n",
      "x1 = 3.67200, x2 = -7.85100, x3 = -155.35600\n",
      "Error relativo: x1 = 72.76688%, x2 = 125.47446%, x3 = 103.21841%\n",
      "\n",
      "Iteración 2:\n",
      "x1 = 12.05644, x2 = -54.88202, x3 = -798.34312\n",
      "Error relativo: x1 = 69.54325%, x2 = 85.69477%, x3 = 80.54020%\n",
      "\n",
      "Iteración 3:\n",
      "x1 = 47.18213, x2 = -255.51414, x3 = -3448.85686\n",
      "Error relativo: x1 = 74.44702%, x2 = 78.52095%, x3 = 76.85195%\n",
      "\n",
      "Iteración 4:\n",
      "x1 = 193.32910, x2 = -1093.37571, x3 = -14439.68222\n",
      "Error relativo: x1 = 75.59492%, x2 = 76.63071%, x3 = 76.11542%\n",
      "\n",
      "Iteración 5:\n",
      "x1 = 800.53443, x2 = -4577.16517, x3 = -60071.77603\n",
      "Error relativo: x1 = 75.85000%, x2 = 76.11238%, x3 = 75.96262%\n",
      "\n",
      "Iteración 6:\n",
      "x1 = 3322.57608, x2 = -19049.48660, x3 = -249577.91567\n",
      "Error relativo: x1 = 75.90621%, x2 = 75.97224%, x3 = 75.93065%\n",
      "\n",
      "Iteración 7:\n",
      "x1 = 13797.28595, x2 = -79158.89812, x3 = -1036623.19896\n",
      "Error relativo: x1 = 75.91863%, x2 = 75.93513%, x3 = 75.92395%\n",
      "\n",
      "Iteración 8:\n",
      "x1 = 57300.97958, x2 = -328807.78679, x3 = -4305368.41838\n",
      "Error relativo: x1 = 75.92138%, x2 = 75.92548%, x3 = 75.92254%\n",
      "\n",
      "Iteración 9:\n",
      "x1 = 237980.56609, x2 = -1365651.32644, x3 = -17881106.40000\n",
      "Error relativo: x1 = 75.92199%, x2 = 75.92301%, x3 = 75.92225%\n",
      "\n",
      "Iteración 10:\n",
      "x1 = 988378.79329, x2 = -5671869.89631, x3 = -74263828.27782\n",
      "Error relativo: x1 = 75.92213%, x2 = 75.92238%, x3 = 75.92219%\n",
      "\n",
      "Iteración 11:\n",
      "x1 = 4104931.38237, x2 = -23556450.37426, x3 = -308432435.37068\n",
      "Error relativo: x1 = 75.92216%, x2 = 75.92222%, x3 = 75.92217%\n",
      "\n",
      "Iteración 12:\n",
      "x1 = 17048591.76168, x2 = -97834657.52210, x3 = -1280981044.21666\n",
      "Error relativo: x1 = 75.92217%, x2 = 75.92218%, x3 = 75.92217%\n",
      "\n",
      "Iteración 13:\n",
      "x1 = 70806177.54509, x2 = -406326767.68362, x3 = -5320168075.08917\n",
      "Error relativo: x1 = 75.92217%, x2 = 75.92217%, x3 = 75.92217%\n",
      "\n",
      "Iteración 14:\n",
      "x1 = 294072080.81229, x2 = -1687555614.96217, x3 = -22095711978.22369\n",
      "Error relativo: x1 = 75.92217%, x2 = 75.92217%, x3 = 75.92217%\n",
      "\n",
      "Iteración 15:\n",
      "x1 = 1221339606.39338, x2 = -7008752831.71910, x3 = -91767869060.81787\n",
      "Error relativo: x1 = 75.92217%, x2 = 75.92217%, x3 = 75.92217%\n",
      "\n",
      "Iteración 16:\n",
      "x1 = 5072465333.04853, x2 = -29108739009.63604, x3 = -381130139564.15662\n",
      "Error relativo: x1 = 75.92217%, x2 = 75.92217%, x3 = 75.92217%\n",
      "\n",
      "Iteración 17:\n",
      "x1 = 21066953388.76547, x2 = -120894359642.45421, x3 = -1582908971993.57739\n",
      "Error relativo: x1 = 75.92217%, x2 = 75.92217%, x3 = 75.92217%\n",
      "\n",
      "Iteración 18:\n",
      "x1 = 87495230812.50594, x2 = -502098224978.70032, x3 = -6574134536977.25195\n",
      "Error relativo: x1 = 75.92217%, x2 = 75.92217%, x3 = 75.92217%\n",
      "\n",
      "Iteración 19:\n",
      "x1 = 363385026479.10211, x2 = -2085313394688.51050, x3 = -27303683076449.37500\n",
      "Error relativo: x1 = 75.92217%, x2 = 75.92217%, x3 = 75.92217%\n",
      "\n",
      "Iteración 20:\n",
      "x1 = 1509210001999.94897, x2 = -8660719631421.26953, x3 = -113397604710658.23438\n",
      "Error relativo: x1 = 75.92217%, x2 = 75.92217%, x3 = 75.92217%\n",
      "\n",
      "Iteración 21:\n",
      "x1 = 6268048114714.85547, x2 = -35969684328864.41406, x3 = -470962716572287.00000\n",
      "Error relativo: x1 = 75.92217%, x2 = 75.92217%, x3 = 75.92217%\n",
      "\n",
      "Iteración 22:\n",
      "x1 = 26032445528668.63672, x2 = -149389224657791.06250, x3 = -1956001460234511.75000\n",
      "Error relativo: x1 = 75.92217%, x2 = 75.92217%, x3 = 75.92217%\n",
      "\n",
      "Iteración 23:\n",
      "x1 = 108117903340942.95312, x2 = -620443044198207.50000, x3 = -8123661550717016.00000\n",
      "Error relativo: x1 = 75.92217%, x2 = 75.92217%, x3 = 75.92217%\n",
      "\n",
      "Iteración 24:\n",
      "x1 = 449035070868326.37500, x2 = -2576822873106962.00000, x3 = -33739175727755176.00000\n",
      "Error relativo: x1 = 75.92217%, x2 = 75.92217%, x3 = 75.92217%\n",
      "\n",
      "Iteración 25:\n",
      "x1 = 1864931603731603.75000, x2 = -10702055863883412.00000, x3 = -140125480570749712.00000\n",
      "Error relativo: x1 = 75.92217%, x2 = 75.92217%, x3 = 75.92217%\n",
      "\n",
      "Iteración 26:\n",
      "x1 = 7745430395606675.00000, x2 = -44447758093509664.00000, x3 = -581968879845244928.00000\n",
      "Error relativo: x1 = 75.92217%, x2 = 75.92217%, x3 = 75.92217%\n",
      "\n",
      "Iteración 27:\n",
      "x1 = 32168306812511732.00000, x2 = -184600344519438208.00000, x3 = -2417032046768430592.00000\n",
      "Error relativo: x1 = 75.92217%, x2 = 75.92217%, x3 = 75.92217%\n",
      "\n",
      "Iteración 28:\n",
      "x1 = 133601350774624864.00000, x2 = -766681800350945024.00000, x3 = -10038412907334639616.00000\n",
      "Error relativo: x1 = 75.92217%, x2 = 75.92217%, x3 = 75.92217%\n",
      "\n",
      "Iteración 29:\n",
      "x1 = 554872876363574656.00000, x2 = -3184181397491767296.00000, x3 = -41691517426453536768.00000\n",
      "Error relativo: x1 = 75.92217%, x2 = 75.92217%, x3 = 75.92217%\n",
      "\n",
      "Iteración 30:\n",
      "x1 = 2304496976556495104.00000, x2 = -13224536134145269760.00000, x3 = -173153131014392086528.00000\n",
      "Error relativo: x1 = 75.92217%, x2 = 75.92217%, x3 = 75.92217%\n",
      "\n",
      "Iteración 31:\n",
      "x1 = 9571032467404738560.00000, x2 = -54924118362438893568.00000, x3 = -719139254957015564288.00000\n",
      "Error relativo: x1 = 75.92217%, x2 = 75.92217%, x3 = 75.92217%\n",
      "\n",
      "Iteración 32:\n",
      "x1 = 39750393870768398336.00000, x2 = -228110744096520241152.00000, x3 = -2986727788232406728704.00000\n",
      "Error relativo: x1 = 75.92217%, x2 = 75.92217%, x3 = 75.92217%\n",
      "\n",
      "Iteración 33:\n",
      "x1 = 165091260348600320000.00000, x2 = -947389109259751653376.00000, x3 = -12404472179081428860928.00000\n",
      "Error relativo: x1 = 75.92217%, x2 = 75.92217%, x3 = 75.92217%\n",
      "\n",
      "Iteración 34:\n",
      "x1 = 685656709015207542784.00000, x2 = -3934694649736481734656.00000, x3 = -51518230301352101150720.00000\n",
      "Error relativo: x1 = 75.92217%, x2 = 75.92217%, x3 = 75.92217%\n",
      "\n",
      "Iteración 35:\n",
      "x1 = 2847668142001380392960.00000, x2 = -16341566348342029451264.00000, x3 = -213965416268094448336896.00000\n",
      "Error relativo: x1 = 75.92217%, x2 = 75.92217%, x3 = 75.92217%\n",
      "\n",
      "Iteración 36:\n",
      "x1 = 11826929920392183152640.00000, x2 = -67869762329625659179008.00000, x3 = -888640760580966497386496.00000\n",
      "Error relativo: x1 = 75.92217%, x2 = 75.92217%, x3 = 75.92217%\n",
      "\n",
      "Iteración 37:\n",
      "x1 = 49119582889163794415616.00000, x2 = -281876568040689543151616.00000, x3 = -3690701119551312146464768.00000\n",
      "Error relativo: x1 = 75.92217%, x2 = 75.92217%, x3 = 75.92217%\n",
      "\n",
      "Iteración 38:\n",
      "x1 = 204003358390190409252864.00000, x2 = -1170689227177609255714816.00000, x3 = -15328212882056107326963712.00000\n",
      "Error relativo: x1 = 75.92217%, x2 = 75.92217%, x3 = 75.92217%\n",
      "\n",
      "Iteración 39:\n",
      "x1 = 847266360717766069059584.00000, x2 = -4862104275485114868170752.00000, x3 = -63661104637536946263949312.00000\n",
      "Error relativo: x1 = 75.92217%, x2 = 75.92217%, x3 = 75.92217%\n",
      "\n",
      "Iteración 40:\n",
      "x1 = 3518865040598500695343104.00000, x2 = -20193282245095887279751168.00000, x3 = -264397178905033435592523776.00000\n",
      "Error relativo: x1 = 75.92217%, x2 = 75.92217%, x3 = 75.92217%\n",
      "\n",
      "Iteración 41:\n",
      "x1 = 14614543605220515566845952.00000, x2 = -83866701478634936495767552.00000, x3 = -1098093861408134934957129728.00000\n",
      "Error relativo: x1 = 75.92217%, x2 = 75.92217%, x3 = 75.92217%\n",
      "\n",
      "Iteración 42:\n",
      "x1 = 60697094752052379887075328.00000, x2 = -348315025340402155047092224.00000, x3 = -4560601340210717118051647488.00000\n",
      "Error relativo: x1 = 75.92217%, x2 = 75.92217%, x3 = 75.92217%\n",
      "\n",
      "Iteración 43:\n",
      "x1 = 252087058676509107485147136.00000, x2 = -1446621301885733082685767680.00000, x3 = -18941080826788513386120347648.00000\n",
      "Error relativo: x1 = 75.92217%, x2 = 75.92217%, x3 = 75.92217%\n",
      "\n",
      "Iteración 44:\n",
      "x1 = 1046967493448687239942897664.00000, x2 = -6008104844240934296033951744.00000, x3 = -78666060925719750999369842688.00000\n",
      "Error relativo: x1 = 75.92217%, x2 = 75.92217%, x3 = 75.92217%\n",
      "\n",
      "Iteración 45:\n",
      "x1 = 4348263405876976547337863168.00000, x2 = -24952849631300844603293302784.00000, x3 = -326715734870674469984946618368.00000\n",
      "Error relativo: x1 = 75.92217%, x2 = 75.92217%, x3 = 75.92217%\n",
      "\n",
      "Iteración 46:\n",
      "x1 = 18059199321087148247822106624.00000, x2 = -103634127709862877234458525696.00000, x3 = -1356915169718194820872881045504.00000\n",
      "Error relativo: x1 = 75.92217%, x2 = 75.92217%, x3 = 75.92217%\n",
      "\n",
      "Iteración 47:\n",
      "x1 = 75003432330700377781587410944.00000, x2 = -430413062430828669643589156864.00000, x3 = -5635537506450909379663098806272.00000\n",
      "Error relativo: x1 = 75.92217%, x2 = 75.92217%, x3 = 75.92217%\n",
      "\n",
      "Iteración 48:\n",
      "x1 = 311504112744202135855364571136.00000, x2 = -1787590713647253273647540862976.00000, x3 = -23405503671398068842351961309184.00000\n",
      "Error relativo: x1 = 75.92217%, x2 = 75.92217%, x3 = 75.92217%\n",
      "\n",
      "Iteración 49:\n",
      "x1 = 1293738289585373475977581035520.00000, x2 = -7424218357758229202526653120512.00000, x3 = -97207693407195034614051459039232.00000\n",
      "Error relativo: x1 = 75.92217%, x2 = 75.92217%, x3 = 75.92217%\n",
      "\n",
      "Iteración 50:\n",
      "x1 = 5373151407839446864779418796032.00000, x2 = -30834249586816195591478917988352.00000, x3 = -403722807687086019444887800250368.00000\n",
      "Error relativo: x1 = 75.92217%, x2 = 75.92217%, x3 = 75.92217%\n",
      "\n",
      "Iteración 51:\n",
      "x1 = 22315762224846681157099191271424.00000, x2 = -128060746837887687818983300399104.00000, x3 = -1676740798323269760736889900367872.00000\n",
      "Error relativo: x1 = 75.92217%, x2 = 75.92217%, x3 = 75.92217%\n",
      "\n",
      "Iteración 52:\n",
      "x1 = 92681781300508318625785031163904.00000, x2 = -531861650613657828914169011765248.00000, x3 = -6963836699909303358682264042995712.00000\n",
      "Error relativo: x1 = 75.92217%, x2 = 75.92217%, x3 = 75.92217%\n",
      "\n",
      "Iteración 53:\n",
      "x1 = 384925798119103679953998033453056.00000, x2 = -2208926797464166519796701262249984.00000, x3 = -28922193359580930522893797063393280.00000\n",
      "Error relativo: x1 = 75.92217%, x2 = 75.92217%, x3 = 75.92217%\n",
      "\n",
      "Iteración 54:\n",
      "x1 = 1598673093876070524875092134985728.00000, x2 = -9174110581060947307178260143538176.00000, x3 = -120119598545422764837444053578547200.00000\n",
      "Error relativo: x1 = 75.92217%, x2 = 75.92217%, x3 = 75.92217%\n",
      "\n",
      "Iteración 55:\n",
      "x1 = 6639606058029099824349113250480128.00000, x2 = -38101898646054952990112399306522624.00000, x3 = -498880488603530994165155737519521792.00000\n",
      "Error relativo: x1 = 75.92217%, x2 = 75.92217%, x3 = 75.92217%\n",
      "\n",
      "Iteración 56:\n",
      "x1 = 27575599273352225199540368723410944.00000, x2 = -158244733111376427325678482597347328.00000, x3 = -2071949498026203153251718715326595072.00000\n",
      "Error relativo: x1 = 75.92217%, x2 = 75.92217%, x3 = 75.92217%\n",
      "\n",
      "Iteración 57:\n",
      "x1 = 114526926543323424876860178203410432.00000, x2 = -657221725093312004858416586211459072.00000, x3 = -8605216721118828533671056268047941632.00000\n",
      "Error relativo: x1 = 75.92217%, x2 = 75.92217%, x3 = 75.92217%\n",
      "\n",
      "Iteración 58:\n",
      "x1 = 475653013863415533464088412583624704.00000, x2 = -2729572020767470701003825267163004928.00000, x3 = -35739169747122189587374448923497201664.00000\n",
      "Error relativo: x1 = 75.92217%, x2 = 75.92217%, x3 = 75.92217%\n",
      "\n",
      "Iteración 59:\n",
      "x1 = 1975481194038381617442497145805471744.00000, x2 = -11336453333916778650822360692300972032.00000, x3 = -148431851934525594934751812079440625664.00000\n",
      "Error relativo: x1 = 75.92217%, x2 = 75.92217%, x3 = 75.92217%\n",
      "\n",
      "Iteración 60:\n",
      "x1 = 8204564744164379480330879792941367296.00000, x2 = -47082536461499336475803061833600860160.00000, x3 = -616466885621678626347475879658927423488.00000\n",
      "Error relativo: x1 = 75.92217%, x2 = 75.92217%, x3 = 75.92217%\n",
      "\n",
      "Iteración 61:\n",
      "x1 = 34075182717167011782375669608719843328.00000, x2 = -195543101034626284855036803390973673472.00000, x3 = -2560309098856534505075245960706943614976.00000\n",
      "Error relativo: x1 = 75.92217%, x2 = 75.92217%, x3 = 75.92217%\n",
      "\n",
      "Iteración 62:\n",
      "x1 = 141520984161186634151702650069899542528.00000, x2 = -812129235932426335637079181385151807488.00000, x3 = -10633470888021760499126051048072887140352.00000\n",
      "Error relativo: x1 = 75.92217%, x2 = 75.92217%, x3 = 75.92217%\n",
      "\n",
      "Iteración 63:\n",
      "x1 = 587764682707355620601537799395341238272.00000, x2 = -3372933600656124751305818562324972175360.00000, x3 = -44162911101985712350951620365029472206848.00000\n",
      "Error relativo: x1 = 75.92217%, x2 = 75.92217%, x3 = 75.92217%\n",
      "\n",
      "Iteración 64:\n",
      "x1 = 2441103164210653541013294096236507299840.00000, x2 = -14008461425937015493163219838892549079040.00000, x3 = -183417318535089953002175382542446655176704.00000\n",
      "Error relativo: x1 = 75.92217%, x2 = 75.92217%, x3 = 75.92217%\n",
      "\n",
      "Iteración 65:\n",
      "x1 = 10138385026591001025291528131135708069888.00000, x2 = -58179915395841759241357023772763133837312.00000, x3 = -761768459079002959374443310274117174820864.00000\n",
      "Error relativo: x1 = 75.92217%, x2 = 75.92217%, x3 = 75.92217%\n",
      "\n",
      "Iteración 66:\n",
      "x1 = 42106721442328469062680350335473306042368.00000, x2 = -241632714153752401922450502733588596785152.00000, x3 = -3163775317850270567214059504832558546288640.00000\n",
      "Error relativo: x1 = 75.92217%, x2 = 75.92217%, x3 = 75.92217%\n",
      "\n",
      "Iteración 67:\n",
      "x1 = 174877555544761303073052480740020061208576.00000, x2 = -1003548529626806603682662407816090671382528.00000, x3 = -13139785642923949017297627975459938207006720.00000\n",
      "Error relativo: x1 = 75.92217%, x2 = 75.92217%, x3 = 75.92217%\n",
      "\n",
      "Iteración 68:\n",
      "x1 = 726301131642319312376938582716122535034880.00000, x2 = -4167935847773061181338314986141556729184256.00000, x3 = -54572132783217251757979533218944063891308544.00000\n",
      "Error relativo: x1 = 75.92217%, x2 = 75.92217%, x3 = 75.92217%\n",
      "\n",
      "Iteración 69:\n",
      "x1 = 3016472480883302257069242754570862905524224.00000, x2 = -17310263249164261586806500384198895257780224.00000, x3 = -226648878257224435493894523463028511267094528.00000\n",
      "Error relativo: x1 = 75.92217%, x2 = 75.92217%, x3 = 75.92217%\n",
      "\n",
      "Iteración 70:\n",
      "x1 = 12528007780121829638081877872530497510309888.00000, x2 = -71892952458821577716158050405844316577595392.00000, x3 = -941317690831684456061731294509922249009528832.00000\n",
      "Error relativo: x1 = 75.92217%, x2 = 75.92217%, x3 = 75.92217%\n",
      "\n",
      "Iteración 71:\n",
      "x1 = 52031298125031693389560049290244065308180480.00000, x2 = -298585673646293009915804611074296639725240320.00000, x3 = -3909478846249046936825366622260209792235601920.00000\n",
      "Error relativo: x1 = 75.92217%, x2 = 75.92217%, x3 = 75.92217%\n",
      "\n",
      "Iteración 72:\n",
      "x1 = 216096288579220495301808089958135238343262208.00000, x2 = -1240085452852633095311293891882555682716647424.00000, x3 = -16236840121176156715026038707839609122236399616.00000\n",
      "Error relativo: x1 = 75.92217%, x2 = 75.92217%, x3 = 75.92217%\n",
      "\n",
      "Iteración 73:\n",
      "x1 = 897490695417572805266011311855184404147077120.00000, x2 = -5150320548193563169662485713418874467072868352.00000, x3 = -67434813561807728457657000802578863585711095808.00000\n",
      "Error relativo: x1 = 75.92217%, x2 = 75.92217%, x3 = 75.92217%\n",
      "\n",
      "Iteración 74:\n",
      "x1 = 3727456652111021493355645124576461107568312320.00000, x2 = -21390301521662205889638035896289330912332611584.00000, x3 = -280070139644040644649966070835208852489096921088.00000\n",
      "Error relativo: x1 = 75.92217%, x2 = 75.92217%, x3 = 75.92217%\n",
      "\n",
      "Iteración 75:\n",
      "x1 = 15480865890094069093579258396091614796491784192.00000, x2 = -88838159665247477237990709227249417797609979904.00000, x3 = -1163186772190576141489886283703517821334492020736.00000\n",
      "Error relativo: x1 = 75.92217%, x2 = 75.92217%, x3 = 75.92217%\n",
      "\n",
      "Iteración 76:\n",
      "x1 = 64295102820672538267656248682356737060286496768.00000, x2 = -368962476041558268172604600344243744868229185536.00000, x3 = -4830945093678146454730521435341808589840515596288.00000\n",
      "Error relativo: x1 = 75.92217%, x2 = 75.92217%, x3 = 75.92217%\n",
      "\n",
      "Iteración 77:\n",
      "x1 = 267030298955437513446334545774654726483046563840.00000, x2 = -1532374254933731638470084357566148346556297773056.00000, x3 = -20063871990378220327519840350196139755947008458752.00000\n",
      "Error relativo: x1 = 75.92217%, x2 = 75.92217%, x3 = 75.92217%\n",
      "\n",
      "Iteración 78:\n",
      "x1 = 1109029730601875341996313753745645865105872650240.00000, x2 = -6364253846017725519549083644617376234509625720832.00000, x3 = -83329235054457335224434889001723046965385659154432.00000\n",
      "Error relativo: x1 = 75.92217%, x2 = 75.92217%, x3 = 75.92217%\n",
      "\n",
      "Iteración 79:\n",
      "x1 = 4606020171381838097503463606206186843077645172736.00000, x2 = -26432006989247537876973347724434113873947953987584.00000, x3 = -346082820808014231516818586600481538915805457022976.00000\n",
      "Error relativo: x1 = 75.92217%, x2 = 75.92217%, x3 = 75.92217%\n",
      "\n",
      "Iteración 80:\n",
      "x1 = 19129714230170076628375538667512979190201955909632.00000, x2 = -109777361240358839279698844549871269687636294369280.00000, x3 = -1437350514260184796976191960408929654161563583512576.00000\n",
      "Error relativo: x1 = 75.92217%, x2 = 75.92217%, x3 = 75.92217%\n",
      "\n",
      "Iteración 81:\n",
      "x1 = 79449492818479158488836201277972809256670683201536.00000, x2 = -455927128265310168288665615172666267283170017673216.00000, x3 = -5969601426677276969081925075070573438538420703985664.00000\n",
      "Error relativo: x1 = 75.92217%, x2 = 75.92217%, x3 = 75.92217%\n",
      "\n",
      "Iteración 82:\n",
      "x1 = 329969482720153099128730168188197461960100228890624.00000, x2 = -1893555683426565254971350447679000072351440510648320.00000, x3 = -24792937310583257897968955707288942038808905711091712.00000\n",
      "Error relativo: x1 = 75.92217%, x2 = 75.92217%, x3 = 75.92217%\n",
      "\n",
      "Iteración 83:\n",
      "x1 = 1370428629108643227344088760411191041122903001137152.00000, x2 = -7864311869046238581506590619878410574132110795210752.00000, x3 = -102969980163089764417925685630502328839726823181910016.00000\n",
      "Error relativo: x1 = 75.92217%, x2 = 75.92217%, x3 = 75.92217%\n",
      "\n",
      "Iteración 84:\n",
      "x1 = 5691661580332838239849225717799140352263212675104768.00000, x2 = -32662045122276488025009086608412077520753969063788544.00000, x3 = -427654726100610743899939801268861448172290174022057984.00000\n",
      "Error relativo: x1 = 75.92217%, x2 = 75.92217%, x3 = 75.92217%\n",
      "\n",
      "Iteración 85:\n",
      "x1 = 23638598068479727148322930046850333766433271128784896.00000, x2 = -135651943785261474199090965216194989109929897277521920.00000, x3 = -1776134796437943018969410344152108193047232275214761984.00000\n",
      "Error relativo: x1 = 75.92217%, x2 = 75.92217%, x3 = 75.92217%\n",
      "\n",
      "Iteración 86:\n",
      "x1 = 98175780614570016449300524111669484202311789043515392.00000, x2 = -563389395361817211687932034757034416565764348975251456.00000, x3 = -7376639664156274467314623371242138872845295707490353152.00000\n",
      "Error relativo: x1 = 75.92217%, x2 = 75.92217%, x3 = 75.92217%\n",
      "\n",
      "Iteración 87:\n",
      "x1 = 407743465638614376793463642079092187988265731964796928.00000, x2 = -2339867767089380876074564675696701876487767608166187008.00000, x3 = -30636645846887898384234520667274998698958624377863667712.00000\n",
      "Error relativo: x1 = 75.92217%, x2 = 75.92217%, x3 = 75.92217%\n",
      "\n",
      "Iteración 88:\n",
      "x1 = 1693439387293392219474651176530648631535772874913611776.00000, x2 = -9717934367486150457767894328835814214916354952075935744.00000, x3 = -127240059360414657777581425269337386120173877837774716928.00000\n",
      "Error relativo: x1 = 75.92217%, x2 = 75.92217%, x3 = 75.92217%\n",
      "\n",
      "Iteración 89:\n",
      "x1 = 7033189247913816293766478461840349979510351725760348160.00000, x2 = -40360506563258695405675214168547918864064219622215254016.00000, x3 = -528453172940485179656198845542373709024745137409741553664.00000\n",
      "Error relativo: x1 = 75.92217%, x2 = 75.92217%, x3 = 75.92217%\n",
      "\n",
      "Iteración 90:\n",
      "x1 = 29210228230271148662970859778811314915959885740480921600.00000, x2 = -167625179224608541846742022537693805699585943747629678592.00000, x3 = -2194770714463742905306899537696503679503192221657696567296.00000\n",
      "Error relativo: x1 = 75.92217%, x2 = 75.92217%, x3 = 75.92217%\n",
      "\n",
      "Iteración 91:\n",
      "x1 = 121315864423471416741518652156976710123893922387894206464.00000, x2 = -696180576079803427212643809163627397741302600129610514432.00000, x3 = -9115317564022242187328672746559144311953897602040142495744.00000\n",
      "Error relativo: x1 = 75.92217%, x2 = 75.92217%, x3 = 75.92217%\n",
      "\n",
      "Iteración 92:\n",
      "x1 = 503848817776850324152795549909353129917032702689237008384.00000, x2 = -2891375846712022494030852169475425293589823426324202520576.00000, x3 = -37857719599322182324818632785897532568904396233450075455488.00000\n",
      "Error relativo: x1 = 75.92217%, x2 = 75.92217%, x3 = 75.92217%\n",
      "\n",
      "Iteración 93:\n",
      "x1 = 2092583953315291833612812992575904751853612295818521346048.00000, x2 = -12008456676607061878300174842370046443715848837366911336448.00000, x3 = -157230609158117270350270373557178156174470848225283384803328.00000\n",
      "Error relativo: x1 = 75.92217%, x2 = 75.92217%, x3 = 75.92217%\n",
      "\n",
      "Iteración 94:\n",
      "x1 = 8690915701646103579933890885047040512597073467831044014080.00000, x2 = -49873499468404169845687330385729054578967731714487929012224.00000, x3 = -653009867416188877362232322818025178866365798793815189880832.00000\n",
      "Error relativo: x1 = 75.92217%, x2 = 75.92217%, x3 = 75.92217%\n",
      "\n",
      "Iteración 95:\n",
      "x1 = 36095094590328386164529883180885809670804802850363197620224.00000, x2 = -207134523295603468495587425829521759240283561629497929236480.00000, x3 = -2712079341460046253354196450460773180141108142678663378239488.00000\n",
      "Error relativo: x1 = 75.92217%, x2 = 75.92217%, x3 = 75.92217%\n",
      "\n",
      "Iteración 96:\n",
      "x1 = 149910078317522550077493998772909758683702154374587342651392.00000, x2 = -860270708857674618950677433875681421951978717161865818931200.00000, x3 = -11263802771431152140562929793280798451600857986371971610312704.00000\n",
      "Error relativo: x1 = 75.92217%, x2 = 75.92217%, x3 = 75.92217%\n",
      "\n",
      "Iteración 97:\n",
      "x1 = 622606252628780970163341129092471493351565903026135777673216.00000, x2 = -3572874674601354100548285985069642404933912338286373865783296.00000, x3 = -46780804283328211924189383474440067241704511425822201978290176.00000\n",
      "Error relativo: x1 = 75.92217%, x2 = 75.92217%, x3 = 75.92217%\n",
      "\n",
      "Iteración 98:\n",
      "x1 = 2585807106253399282804755608931932360072103230195211488460800.00000, x2 = -14838856314611167771914371937150450475363761913333916660400128.00000, x3 = -194289947525155500587884656911911426845449355582045091006513152.00000\n",
      "Error relativo: x1 = 75.92217%, x2 = 75.92217%, x3 = 75.92217%\n",
      "\n",
      "Iteración 99:\n",
      "x1 = 10739369163928453121178998997999385230239216382110143329861632.00000, x2 = -61628709870783187395946409870006153486232561609125510263078912.00000, x3 = -806924641156299092042271270453270019049958464482043244838912000.00000\n",
      "Error relativo: x1 = 75.92217%, x2 = 75.92217%, x3 = 75.92217%\n",
      "\n",
      "Iteración 100:\n",
      "x1 = 44602727620408598877283824462596221765987299781914613633777664.00000, x2 = -255956240818731381677023603598752924814078079003139321341411328.00000, x3 = -3351317887514062388955406144880279938375650578699542335133319168.00000\n",
      "Error relativo: x1 = 75.92217%, x2 = 75.92217%, x3 = 75.92217%\n",
      "No convergió dentro del número máximo de iteraciones.\n",
      "\n",
      "La solucion final es: a1 = 44602727620408598877283824462596221765987299781914613633777664.0000, a2 = -255956240818731381677023603598752924814078079003139321341411328.0000, a3 = -3351317887514062388955406144880279938375650578699542335133319168.0000\n"
     ]
    }
   ],
   "source": [
    "def main():\n",
    "    print(\"Selecciona el método que deseas usar para resolver el sistema de ecuaciones:\")\n",
    "    print(\"1. Newton Raphson Multivariable\")\n",
    "    print(\"2. Gauss Seidel\")\n",
    "    opcion = int(input(\"Introduce 1 o 2: \"))\n",
    "\n",
    "    if opcion == 1:\n",
    "        raiz = [1, 1, 1]  \n",
    "        solucion = mnrm(raiz)\n",
    "        print(f\"\\nLa solucion final es: x1 = {solucion[0]:.4f}, x2 = {solucion[1]:.4f}, x3 = {solucion[2]:.4f}\")\n",
    "\n",
    "    elif opcion == 2:\n",
    "        \n",
    "        A = np.array([[25, 5, 1],\n",
    "                      [64, 8, 1],\n",
    "                      [144, 12, 1]])\n",
    "        b = np.array([106.8, 177.2, 279.2])\n",
    "        x = np.array([1, 2, 5], dtype=float)  \n",
    "\n",
    "        solucion = gs(A, b, x)\n",
    "        print(f\"\\nLa solucion final es: a1 = {solucion[0]:.4f}, a2 = {solucion[1]:.4f}, a3 = {solucion[2]:.4f}\")\n",
    "\n",
    "    else:\n",
    "        print(\"Opción no valida.\")\n",
    "\n",
    "if __name__ == \"__main__\":\n",
    "    main()\n"
   ]
  },
  {
   "cell_type": "markdown",
   "metadata": {},
   "source": [
    "# Asignacion 6"
   ]
  },
  {
   "cell_type": "markdown",
   "metadata": {},
   "source": [
    "## Problema 1"
   ]
  },
  {
   "cell_type": "code",
   "execution_count": null,
   "metadata": {},
   "outputs": [
    {
     "name": "stdout",
     "output_type": "stream",
     "text": [
      "El orden mínimo requerido es n = 7 para que el error sea menor a 1e-05.\n"
     ]
    }
   ],
   "source": [
    "import math\n",
    "\n",
    "\n",
    "a = 0  \n",
    "dominio = math.pi / 4  \n",
    "error_tolerancia = 1e-5\n",
    "\n",
    "\n",
    "def derivada_cos(n):\n",
    "    if n % 4 == 0:\n",
    "        return math.cos  \n",
    "    elif n % 4 == 1:\n",
    "        return lambda x: -math.sin(x)  \n",
    "    elif n % 4 == 2:\n",
    "        return lambda x: -math.cos(x)  \n",
    "    else:\n",
    "        return math.sin  \n",
    "\n",
    "\n",
    "n = 0  \n",
    "error_actual = float('inf')\n",
    "\n",
    "while error_actual > error_tolerancia:\n",
    "    n += 1\n",
    "    M = 1  \n",
    "\n",
    "\n",
    "    residuo = M * (dominio)**(n + 1) / math.factorial(n + 1)\n",
    "    error_actual = residuo\n",
    "\n",
    "print(f\"El orden mínimo requerido es n = {n} para que el error sea menor a {error_tolerancia}.\")"
   ]
  },
  {
   "cell_type": "markdown",
   "metadata": {},
   "source": [
    "## Problema 2"
   ]
  },
  {
   "cell_type": "code",
   "execution_count": null,
   "metadata": {},
   "outputs": [
    {
     "name": "stdout",
     "output_type": "stream",
     "text": [
      "Función a: Raíz aproximada = 3.162277660168387, Iteraciones = 4, Error final = 2.215243881664719e-07\n",
      "Función b: Raíz aproximada = 2.5, Iteraciones = 100, Error final = 0.5\n",
      "Función c: Raíz aproximada = inf, Iteraciones = 11, Error final = nan\n",
      "Función d: Raíz aproximada = 2.2360679779158037, Iteraciones = 3, Error final = 4.31331953074654e-05\n"
     ]
    }
   ],
   "source": [
    "import math\n",
    "\n",
    "\n",
    "def f_a(x):\n",
    "    return 5 / x + x / 2\n",
    "\n",
    "def f_b(x):\n",
    "    return 5 / x\n",
    "\n",
    "def f_c(x):\n",
    "    return 1 + (x - 1) * x\n",
    "\n",
    "def f_d(x):\n",
    "    return 0.5 * (x + 5 / x)\n",
    "\n",
    "\n",
    "x0 = 2.5  \n",
    "tolerancia = 1e-4  \n",
    "iter_max = 100  \n",
    "\n",
    "def punto_fijo(f, x0, tolerancia, iter_max):\n",
    "    iteraciones = 0\n",
    "    error = float('inf')\n",
    "    xi = x0\n",
    "    while error > tolerancia and iteraciones < iter_max:\n",
    "        x_next = f(xi)\n",
    "        error = abs(x_next - xi)\n",
    "        xi = x_next\n",
    "        iteraciones += 1\n",
    "    return xi, iteraciones, error\n",
    "\n",
    "\n",
    "funciones = {\"a\": f_a, \"b\": f_b, \"c\": f_c, \"d\": f_d}\n",
    "resultados = {}\n",
    "\n",
    "for etiqueta, funcion in funciones.items():\n",
    "    raiz, iteraciones, error_final = punto_fijo(funcion, x0, tolerancia, iter_max)\n",
    "    resultados[etiqueta] = (raiz, iteraciones, error_final)\n",
    "\n",
    "\n",
    "for etiqueta, (raiz, iteraciones, error_final) in resultados.items():\n",
    "    print(f\"Función {etiqueta}: Raíz aproximada = {raiz}, Iteraciones = {iteraciones}, Error final = {error_final}\")\n"
   ]
  },
  {
   "cell_type": "markdown",
   "metadata": {},
   "source": [
    "## Problema 3"
   ]
  },
  {
   "cell_type": "code",
   "execution_count": null,
   "metadata": {},
   "outputs": [
    {
     "name": "stdout",
     "output_type": "stream",
     "text": [
      "La temperatura calculada es T = 0.1203 K\n"
     ]
    }
   ],
   "source": [
    "import math\n",
    "P = 1\n",
    "V = 1\n",
    "n = 1\n",
    "R_promedio = 8.3143  \n",
    "delta_R = 0.0012\n",
    "\n",
    "\n",
    "T = (P * V) / (n * R_promedio)\n",
    "print(f\"La temperatura calculada es T = {T:.4f} K\")\n",
    "\n"
   ]
  },
  {
   "cell_type": "markdown",
   "metadata": {},
   "source": [
    "## Problema 4"
   ]
  },
  {
   "cell_type": "code",
   "execution_count": null,
   "metadata": {},
   "outputs": [
    {
     "name": "stdout",
     "output_type": "stream",
     "text": [
      "Caso a)\n",
      "  Error absoluto: 0.000222\n",
      "  Error relativo: 0.100000%\n",
      "  Cifras significativas: 4\n",
      "Caso b)\n",
      "  Error absoluto: 0.002000\n",
      "  Error relativo: 0.008513%\n",
      "  Cifras significativas: 3\n",
      "Caso c)\n",
      "  Error absoluto: 0.000060\n",
      "  Error relativo: 0.279851%\n",
      "  Cifras significativas: 4\n",
      "Caso d)\n",
      "  Error absoluto: 0.001264\n",
      "  Error relativo: 0.040250%\n",
      "  Cifras significativas: 3\n"
     ]
    }
   ],
   "source": [
    "def calcular_errores(x_t, x_a):\n",
    "    \n",
    "    error_absoluto = abs(x_t - x_a)\n",
    "    \n",
    " \n",
    "    error_relativo = error_absoluto / abs(x_t)\n",
    "    \n",
    " \n",
    "    cifras_significativas = 0\n",
    "    while abs(x_t - x_a) < 0.5 * 10**(-cifras_significativas):\n",
    "        cifras_significativas += 1\n",
    "    \n",
    "    return error_absoluto, error_relativo, cifras_significativas\n",
    "\n",
    "\n",
    "casos = [\n",
    "    (2/9, 0.222),  \n",
    "    (23.494, 23.496),  \n",
    "    (0.02144, 0.02138), \n",
    "    (3.141592653589793, 22/7)  \n",
    "]\n",
    "\n",
    "\n",
    "for i, (x_t, x_a) in enumerate(casos, start=1):\n",
    "    error_absoluto, error_relativo, cifras_significativas = calcular_errores(x_t, x_a)\n",
    "    print(f\"Caso {chr(96 + i)})\")\n",
    "    print(f\"  Error absoluto: {error_absoluto:.6f}\")\n",
    "    print(f\"  Error relativo: {error_relativo:.6%}\")\n",
    "    print(f\"  Cifras significativas: {cifras_significativas}\")\n"
   ]
  },
  {
   "cell_type": "markdown",
   "metadata": {},
   "source": [
    "# Asignacion 7"
   ]
  },
  {
   "cell_type": "markdown",
   "metadata": {},
   "source": [
    "## Importamos librerías y definimos la función y sus derivadas para el proceso de Golden Search."
   ]
  },
  {
   "cell_type": "code",
   "execution_count": null,
   "metadata": {},
   "outputs": [],
   "source": [
    "import numpy as np\n",
    "import ipywidgets as widgets\n",
    "from IPython.display import display, clear_output"
   ]
  },
  {
   "cell_type": "markdown",
   "metadata": {},
   "source": [
    "### Definimos el método de razon dorada o Golden search, en este código lo he definido por sus iniciales (mrd). Colocamos los parámetros, las formulas para encontrar los puntos y el error absoluto.\n",
    "\n",
    "##### Por otro lado, para este método se debe colocar un proceso if y else, para que en las distintas iteraciones se cumplan los requisitos, ya que en el caso de que $f1>f2$ entonces $x_2$ se convierte en $x_l$ y $x_1$ pasa a ser $x_2$\n",
    "\n",
    "##### En cambio, cuando sucede lo contrario $f2>f1$, ntonces $x_1$ se convierte en $x_u$ y $x_2$ pasa a ser $x_1$"
   ]
  },
  {
   "cell_type": "code",
   "execution_count": null,
   "metadata": {},
   "outputs": [],
   "source": [
    "def mrd():\n",
    "    \n",
    "    xl = 0.01  \n",
    "    xu = 4     \n",
    "    tol = 1e-4  \n",
    "    rd = (np.sqrt(5) - 1) / 2  \n",
    "\n",
    "    \n",
    "    x1 = xl + rd * (xu - xl)\n",
    "    x2 = xu - rd * (xu - xl)\n",
    "    f1 = f(x1)\n",
    "    f2 = f(x2)\n",
    "\n",
    "    \n",
    "    def error_abs(xl, xu):\n",
    "        return abs(xu - xl)\n",
    "\n",
    "    \n",
    "    iter_count = 0\n",
    "        \n",
    "    print(f\"{'# Iter':<10}{'xl':<10}{'x2':<10}{'x1':<10}{'xu':<10}{'f2':<10}{'f1':<10}{'Error abs':<10}\")\n",
    "    while error_abs(xl, xu) > tol:\n",
    "        iter_count += 1  \n",
    "        \n",
    "        if f1 > f2:\n",
    "            xl = x2\n",
    "            x2 = x1\n",
    "            f2 = f1\n",
    "            x1 = xl + rd * (xu - xl)\n",
    "            f1 = f(x1)\n",
    "        else:\n",
    "            xu = x1\n",
    "            x1 = x2\n",
    "            f1 = f2\n",
    "            x2 = xu - rd * (xu - xl)\n",
    "            f2 = f(x2)\n",
    "        \n",
    "        \n",
    "        if error_abs(xl, xu) > tol:\n",
    "            print(f\"{iter_count:<10}{xl:<10.4f}{x2:<10.4f}{x1:<10.4f}{xu:<10.4f}{f2:<10.4f}{f1:<10.4f}{error_abs(xl, xu):<10.4f}\")\n",
    "\n",
    "    \n",
    "    print(f\"\\nIteraciones finalizadas: {iter_count}\")\n",
    "    print(f\"Resultado final: xl: {xl:.6f}, xu: {xu:.6f}, error abs: {error_abs(xl, xu):.6f}\")"
   ]
  },
  {
   "cell_type": "markdown",
   "metadata": {},
   "source": [
    "### Método de Newton\n",
    "\n",
    "##### Definimos el método de newton, en este código lo he definido por sus iniciales (mn). Colocamos los parámetros, derivadas, las formulas para encontrar los puntos y el error absoluto."
   ]
  },
  {
   "cell_type": "code",
   "execution_count": null,
   "metadata": {},
   "outputs": [],
   "source": [
    "def f(x):\n",
    "    return 2 * np.sin(x) - (x**2) / 10\n",
    "\n",
    "def df_dx(x):\n",
    "    return 2 * np.cos(x) - x / 5\n",
    "\n",
    "def d2f_d2x(x):\n",
    "    return -2 * np.sin(x) - 1 / 5\n",
    "\n",
    "def mn(x0):\n",
    "    tol = 1e-4\n",
    "    max_iter = 100\n",
    "    x = x0\n",
    "    print(f\"\\n{'Iteración':>10} {'x_i':>10} {'f(x_i)':>10} {'f\\'(x_i)':>10} {'f\\'\\'(x_i)':>10} {'x_{i+1}':>10} {'Error':>10}\")\n",
    "    for i in range(max_iter):\n",
    "        fx = f(x)\n",
    "        dfdx = df_dx(x)\n",
    "        d2fd2x = d2f_d2x(x)\n",
    "        \n",
    "        \n",
    "        x_nueva = x - dfdx / d2fd2x\n",
    "        error_abs = abs(x_nueva - x)\n",
    "        \n",
    "        \n",
    "        print(f\"{i+1:>10} {x:>10.5f} {fx:>10.5f} {dfdx:>10.5f} {d2fd2x:>10.5f} {x_nueva:>10.5f} {error_abs:>10.8f}\")\n",
    "        \n",
    "        \n",
    "        if error_abs < tol:\n",
    "            print(f\"Convergencia en iteración {i+1}: x = {x_nueva:.5f}\")\n",
    "            return x_nueva\n",
    "        \n",
    "        x = x_nueva\n",
    "    \n",
    "    print(\"No hubo convergencia\")\n",
    "    return None"
   ]
  },
  {
   "cell_type": "markdown",
   "metadata": {},
   "source": [
    "### Para este código he decidido volver a usar el boton toggle, que se usó en la primera asignación y que volví a implementar en la asignación, lo que hace esta función es que mediante selección de la persona se elija que método ejecutar.\n",
    "\n",
    "##### Anteriormente en el apartado anterior de método de Newton, las $x_0$, no estan definidas, ya que se define en este apartado de botones, en el que se ve como: $mn(0.01)$, $mn(4)$"
   ]
  },
  {
   "cell_type": "code",
   "execution_count": null,
   "metadata": {},
   "outputs": [
    {
     "data": {
      "application/vnd.jupyter.widget-view+json": {
       "model_id": "e326a23e91ea4bb982e4f238cd0ad48d",
       "version_major": 2,
       "version_minor": 0
      },
      "text/plain": [
       "ToggleButtons(description='Método:', options=('Razon Dorada', 'Newton'), value='Razon Dorada')"
      ]
     },
     "metadata": {},
     "output_type": "display_data"
    },
    {
     "data": {
      "application/vnd.jupyter.widget-view+json": {
       "model_id": "44f8deae66d6492e99a9892fc1cd8e00",
       "version_major": 2,
       "version_minor": 0
      },
      "text/plain": [
       "ToggleButton(value=False, button_style='success', description='Empezar Metodo', icon='check', tooltip='Ejecuta…"
      ]
     },
     "metadata": {},
     "output_type": "display_data"
    },
    {
     "data": {
      "application/vnd.jupyter.widget-view+json": {
       "model_id": "d495323fd5d84b9ea09a34da5bcfb5a5",
       "version_major": 2,
       "version_minor": 0
      },
      "text/plain": [
       "Output()"
      ]
     },
     "metadata": {},
     "output_type": "display_data"
    }
   ],
   "source": [
    "toggle_button = widgets.ToggleButton(\n",
    "    value=False,\n",
    "    description='Empezar Metodo',\n",
    "    button_style='success',\n",
    "    tooltip='Ejecutar metedo seleccionado',\n",
    "    icon='check'\n",
    ")\n",
    "\n",
    "method_toggle = widgets.ToggleButtons(\n",
    "    options=[\"Razon Dorada\", \"Newton\"],\n",
    "    description=\"Método:\",\n",
    "    disabled=False,\n",
    ")\n",
    "\n",
    "output = widgets.Output()\n",
    "\n",
    "def click_en_boton(cambio):\n",
    "    if cambio['new']:  \n",
    "        with output:\n",
    "            clear_output()  \n",
    "            if method_toggle.value == \"Razon Dorada\":\n",
    "                print(\"Ejecutando el Metodo de la Razon Dorada:\")\n",
    "                mrd()\n",
    "            elif method_toggle.value == \"Newton\":\n",
    "                print(\"Ejecutando el Metodo de Newton con x0 = 0.01:\")\n",
    "                mn(0.01)\n",
    "                print(\"\\nEjecutando el Metodo de Newton con x0 = 4:\")\n",
    "                mn(4)\n",
    "\n",
    "toggle_button.observe(click_en_boton, names='value')\n",
    "\n",
    "display(method_toggle, toggle_button, output)"
   ]
  },
  {
   "cell_type": "markdown",
   "metadata": {},
   "source": [
    "# Asignacion 8"
   ]
  },
  {
   "cell_type": "markdown",
   "metadata": {},
   "source": [
    "## Importamos librería \n",
    "### Definimos matrices y formula para encontrar a."
   ]
  },
  {
   "cell_type": "code",
   "execution_count": null,
   "metadata": {},
   "outputs": [],
   "source": [
    "import numpy as np\n",
    "\n",
    "\n",
    "x = np.array([0, 1, 3, 5, 9])  # Horas\n",
    "y = np.array([1.000, 0.891, 0.708, 0.562, 0.355])  \n",
    "\n",
    "\n",
    "def a(b, x, y):\n",
    "    a1 = np.sum(y * np.exp(b * x))\n",
    "    a2 = np.sum(np.exp(2 * b * x))\n",
    "    return a1 / a2"
   ]
  },
  {
   "cell_type": "markdown",
   "metadata": {},
   "source": [
    "### Definimos el metodo de bisección y la función a la que se le aplicará el método"
   ]
  },
  {
   "cell_type": "code",
   "execution_count": null,
   "metadata": {},
   "outputs": [
    {
     "name": "stdout",
     "output_type": "stream",
     "text": [
      "Iteración 1: punto_medio = -0.20000, f_b/2 = 0.66892, a_i+1 = 1.11682\n",
      "Iteración 2: punto_medio = -0.15000, f_b/2 = 0.38726, a_i+1 = 1.05665\n",
      "Iteración 3: punto_medio = -0.12500, f_b/2 = 0.13095, a_i+1 = 1.01737\n",
      "Iteración 4: punto_medio = -0.11250, f_b/2 = -0.03802, a_i+1 = 0.99503\n",
      "Iteración 5: punto_medio = -0.11875, f_b/2 = 0.05029, a_i+1 = 1.00643\n",
      "Iteración 6: punto_medio = -0.11563, f_b/2 = 0.00713, a_i+1 = 1.00079\n",
      "Iteración 7: punto_medio = -0.11406, f_b/2 = -0.01520, a_i+1 = 0.99793\n",
      "Iteración 8: punto_medio = -0.11484, f_b/2 = -0.00397, a_i+1 = 0.99936\n",
      "Iteración 9: punto_medio = -0.11523, f_b/2 = 0.00159, a_i+1 = 1.00008\n",
      "Iteración 10: punto_medio = -0.11504, f_b/2 = -0.00119, a_i+1 = 0.99972\n",
      "Iteración 11: punto_medio = -0.11514, f_b/2 = 0.00020, a_i+1 = 0.99990\n",
      "Iteración 12: punto_medio = -0.11509, f_b/2 = -0.00049, a_i+1 = 0.99981\n",
      "Iteración 13: punto_medio = -0.11511, f_b/2 = -0.00014, a_i+1 = 0.99986\n",
      "Iteración 14: punto_medio = -0.11512, f_b/2 = 0.00003, a_i+1 = 0.99988\n",
      "Iteración 15: punto_medio = -0.11512, f_b/2 = -0.00006, a_i+1 = 0.99987\n",
      "Iteración 16: punto_medio = -0.11512, f_b/2 = -0.00001, a_i+1 = 0.99987\n",
      "Iteración 17: punto_medio = -0.11512, f_b/2 = 0.00001, a_i+1 = 0.99987\n",
      "Iteración 18: punto_medio = -0.11512, f_b/2 = -0.00000, a_i+1 = 0.99987\n",
      "Iteración 19: punto_medio = -0.11512, f_b/2 = 0.00000, a_i+1 = 0.99987\n",
      "Iteración 20: punto_medio = -0.11512, f_b/2 = -0.00000, a_i+1 = 0.99987\n",
      "Valor óptimo de b: -0.11512\n",
      "Valor óptimo de a: 0.99987\n"
     ]
    }
   ],
   "source": [
    "def funbis(b, x, y):\n",
    "    A = np.sum(y * x * np.exp(b * x))\n",
    "    B = np.sum(y * np.exp(b * x))\n",
    "    C = np.sum(np.exp(2 * b * x))\n",
    "    D = np.sum(x * np.exp(2 * b * x))\n",
    "   \n",
    "    return A - ((B / C) * D)\n",
    "\n",
    "\n",
    "def biseccion(func, x, y, b_min, b_max, tol=1e-6, max_iter=100):\n",
    "    iteraciones = 0\n",
    "    while iteraciones < max_iter:\n",
    "        b_i2 = (b_min + b_max) / 2\n",
    "        f_i2 = func(b_i2, x, y)\n",
    "        a_i2 = a(b_i2, x, y)  \n",
    "        \n",
    "        \n",
    "        print(f\"Iteración {iteraciones+1}: punto_medio = {b_i2:.5f}, f_b/2 = {f_i2:.5f}, a_i+1 = {a_i2:.5f}\")\n",
    "        \n",
    "        if abs(f_i2) < tol:\n",
    "            return b_i2\n",
    "        elif func(b_min, x, y) * f_i2 < 0:\n",
    "            b_max = b_i2\n",
    "        else:\n",
    "            b_min = b_i2\n",
    "        iteraciones += 1\n",
    "    return b_i2\n",
    "\n",
    "\n",
    "b_min = -0.3\n",
    "b_max = -0.1\n",
    "\n",
    "\n",
    "b_fin = biseccion(funbis, x, y, b_min, b_max)\n",
    "\n",
    "\n",
    "a_fin = a(b_fin, x, y)\n",
    "\n",
    "print(f\"Valor óptimo de b: {b_fin:.5f}\")\n",
    "print(f\"Valor óptimo de a: {a_fin:.5f}\")"
   ]
  },
  {
   "cell_type": "markdown",
   "metadata": {},
   "source": [
    "# Asignacion 9"
   ]
  },
  {
   "cell_type": "markdown",
   "metadata": {},
   "source": [
    "## Linealizacion de datos y método polinomial"
   ]
  },
  {
   "cell_type": "code",
   "execution_count": null,
   "metadata": {},
   "outputs": [],
   "source": [
    "import numpy as np\n",
    "import matplotlib.pyplot as plt\n",
    "import pandas as pd\n",
    "\n",
    "\n",
    "t = np.array([0, 1, 3, 5, 7, 9])  # Tiempo en horas\n",
    "y = np.array([1, 0.891, 0.708, 0.562, 0.447, 0.355])  # Valores de sigma\n",
    "z = np.log(y)  "
   ]
  },
  {
   "cell_type": "markdown",
   "metadata": {},
   "source": [
    "### Para la transformación de data\n",
    "#### se convierte la expresión exponencial en logaritmica, para encontrar $z$ y $a_0$"
   ]
  },
  {
   "cell_type": "code",
   "execution_count": null,
   "metadata": {},
   "outputs": [],
   "source": [
    "N = len(t)\n",
    "sum_xi = np.sum(t)\n",
    "sum_xi2 = np.sum(t**2)\n",
    "sum_tz = np.sum(t * z)\n",
    "sum_z = np.sum(y)\n",
    "\n",
    "\n",
    "a1 = (N * sum_tz - sum_xi * sum_z) / (N * sum_xi2 - sum_xi**2)\n",
    "a0 = (sum_z - a1 * sum_xi) / N\n",
    "\n",
    "\n",
    "A_exp = np.exp(a0)\n",
    "lambda_exp = a1\n",
    "\n",
    "\n",
    "fxiexp = A_exp * np.exp(lambda_exp * t)\n",
    "\n",
    "\n",
    "sr_exp = np.sum((y - fxiexp)**2)"
   ]
  },
  {
   "cell_type": "markdown",
   "metadata": {},
   "source": [
    "## Modelo Polinomial\n",
    "### se definen las sumas\n",
    "### se define la matriz del sistema de ecuaciones, el vector de terminos independientes, como tambien se le pide las solucion de las matrices. Por último calcular el SR y asi determinar que método es mejor para la curva"
   ]
  },
  {
   "cell_type": "code",
   "execution_count": null,
   "metadata": {},
   "outputs": [],
   "source": [
    "# Calcular las sumas necesarias para el sistema de ecuaciones\n",
    "sum_xi3 = np.sum(t**3)\n",
    "sum_xi4 = np.sum(t**4)\n",
    "\n",
    "sum_y = np.sum(y)\n",
    "sum_t = np.sum(t * y)\n",
    "sum_t2 = np.sum(t**2 * y)\n",
    "\n",
    "\n",
    "A = np.array([\n",
    "    [N, sum_xi, sum_xi2],\n",
    "    [sum_xi, sum_xi2, sum_xi3],\n",
    "    [sum_xi2, sum_xi3, sum_xi4]\n",
    "])\n",
    "\n",
    "\n",
    "B = np.array([sum_y, sum_t, sum_t2])\n",
    "\n",
    "\n",
    "a0_poly, a1_poly, a2_poly = np.linalg.solve(A, B)\n",
    "\n",
    "\n",
    "fxipoli = a0_poly + a1_poly * t + a2_poly * t**2\n",
    "\n",
    "\n",
    "sr_poly = np.sum((y - fxipoli)**2)"
   ]
  },
  {
   "cell_type": "markdown",
   "metadata": {},
   "source": [
    "### Tabla de resultados \n",
    "### Criterio de comparación para determinar que método es mas eficiente para la curva\n",
    "### Gráfica"
   ]
  },
  {
   "cell_type": "code",
   "execution_count": null,
   "metadata": {},
   "outputs": [
    {
     "name": "stdout",
     "output_type": "stream",
     "text": [
      "\n",
      "Tabla de Resultados:\n",
      " Iteración   t (Tiempo)          y    z = ln(y)   Predicción Exp  Predicción Poly\n",
      "         1            0      1.000        0.000           22.025            0.997\n",
      "         2            1      0.891       -0.115           12.287            0.894\n",
      "         3            3      0.708       -0.345            3.824            0.711\n",
      "         4            5      0.562       -0.576            1.190            0.561\n",
      "         5            7      0.447       -0.805            0.370            0.443\n",
      "         6            9      0.355       -1.036            0.115            0.357\n",
      " Sumatoria            -      3.963       -2.878                -                -\n",
      "\n",
      "Parámetros del modelo exponencial:\n",
      "A (exp) = 22.0246\n",
      "lambda (exp) = -0.5836\n",
      "\n",
      "Parámetros del modelo polinomial:\n",
      "a0 (poly) = 0.9970\n",
      "a1 (poly) = -0.1074\n",
      "a2 (poly) = 0.0040\n",
      "\n",
      "Suma de los cuadrados de los residuos (SR):\n",
      "Modelo exponencial: SR = 5.8208e+02\n",
      "Modelo polinomial: SR = 4.8563e-05\n",
      "El modelo polinomial proporciona un mejor ajuste.\n"
     ]
    },
    {
     "data": {
      "image/png": "[encoded data removed]",
      "text/plain": [
       "<Figure size 640x480 with 1 Axes>"
      ]
     },
     "metadata": {},
     "output_type": "display_data"
    }
   ],
   "source": [
    "def imprimir_tabla():\n",
    "    print(f\"{'Iteración':>10} {'t (Tiempo)':>12} {'y':>10} {'z = ln(y)':>12} {'Predicción Exp':>16} {'Predicción Poly':>16}\")\n",
    "    for i in range(N):\n",
    "        print(f\"{i + 1:>10} {t[i]:>12} {y[i]:>10.3f} {z[i]:>12.3f} {fxiexp[i]:>16.3f} {fxipoli[i]:>16.3f}\")\n",
    "    print(f\"{'Sumatoria':>10} {'-':>12} {np.sum(y):>10.3f} {np.sum(z):>12.3f} {'-':>16} {'-':>16}\")\n",
    "\n",
    "print(\"\\nTabla de Resultados:\")\n",
    "imprimir_tabla()\n",
    "\n",
    "print(\"\\nParámetros del modelo exponencial:\")\n",
    "print(f\"A (exp) = {A_exp:.4f}\")\n",
    "print(f\"lambda (exp) = {lambda_exp:.4f}\")\n",
    "\n",
    "print(\"\\nParámetros del modelo polinomial:\")\n",
    "print(f\"a0 (poly) = {a0_poly:.4f}\")\n",
    "print(f\"a1 (poly) = {a1_poly:.4f}\")\n",
    "print(f\"a2 (poly) = {a2_poly:.4f}\")\n",
    "\n",
    "print(\"\\nSuma de los cuadrados de los residuos (SR):\")\n",
    "print(f\"Modelo exponencial: SR = {sr_exp:.4e}\")\n",
    "print(f\"Modelo polinomial: SR = {sr_poly:.4e}\")\n",
    "if sr_exp < sr_poly:\n",
    "    print(\"El modelo exponencial proporciona un mejor ajuste.\")\n",
    "else:\n",
    "    print(\"El modelo polinomial proporciona un mejor ajuste.\")\n",
    "\n",
    "# Gráfica de los modelos\n",
    "plt.scatter(t, y, label=\"Datos originales\", color=\"black\")\n",
    "plt.plot(t, fxiexp, label=f\"Ajuste exponencial (SR={sr_exp:.4f})\", color=\"red\")\n",
    "plt.plot(t, fxipoli, label=f\"Ajuste polinomial (SR={sr_poly:.4f})\", color=\"blue\")\n",
    "plt.xlabel(\"Tiempo (horas)\")\n",
    "plt.ylabel(\"y\")\n",
    "plt.legend()\n",
    "plt.show()"
   ]
  },
  {
   "cell_type": "markdown",
   "metadata": {},
   "source": [
    "# Asignacion 10"
   ]
  },
  {
   "cell_type": "markdown",
   "metadata": {},
   "source": [
    "### Para este problema lo hice como un problema de serie:\n",
    "\n",
    "En el que solo se considera en cuenta el delta t inicial de 1 s y 2 s, respectivamente. Observando la tabla se infiere que se comporta de una sola manera reduciendose a la mitad en el tiempo como en su error. por lo tanto, si se quiere alcanzar un error menor de 0.1% entonces, propongo que: \n",
    "\n",
    "$ϵ_a= 0.1$                          \n",
    "\n",
    "$ϵ_a= E_1 (1/2)^n$     -------------------------------->    $(1)$\n",
    "\n",
    "$ϵ_a$ es el error solicitado o deseado\n",
    "\n",
    "$E_1$ es el error inicial\n",
    "\n",
    "De la ecuacion 1 despejamos la n, para encontrar la cantidad de veces en que se reduce el delta t.\n",
    "\n",
    "nos quedaría como: \n",
    "\n",
    "$n= log(ϵ_a/E_1)/log(1/2)$ ----------------------------->   $(2)$"
   ]
  },
  {
   "cell_type": "code",
   "execution_count": null,
   "metadata": {},
   "outputs": [
    {
     "name": "stdout",
     "output_type": "stream",
     "text": [
      "Número de iteraciones necesarias (n): 7\n",
      "Nuevo Δt: 0.007812\n"
     ]
    }
   ],
   "source": [
    "import math\n",
    "\n",
    "\n",
    "error_inicial = 1.2792  \n",
    "error_deseado = 0.01  \n",
    "factor_reduccion = 1 / 2  \n",
    "delta_t_inicial = 1 \n",
    "\n",
    "\n",
    "n = math.log(error_deseado / error_inicial) / math.log(factor_reduccion)\n",
    "n = math.ceil(n)  \n",
    "\n",
    "\n",
    "delta_t_final = factor_reduccion**n\n",
    "\n",
    "\n",
    "print(f\"Número de iteraciones necesarias (n): {n}\")\n",
    "print(f\"Nuevo Δt: {delta_t_final:.6f}\")\n"
   ]
  },
  {
   "cell_type": "markdown",
   "metadata": {},
   "source": [
    "# Asignacion 11"
   ]
  },
  {
   "cell_type": "code",
   "execution_count": null,
   "metadata": {},
   "outputs": [
    {
     "name": "stdout",
     "output_type": "stream",
     "text": [
      "Método de Euler\n",
      "t       x1       x2\n",
      "0.00   1.5000   0.0000\n",
      "0.10   1.5000   -0.6000\n",
      "0.20   1.4400   -1.0800\n",
      "0.30   1.3320   -1.4400\n",
      "0.40   1.1880   -1.6848\n",
      "0.50   1.0195   -1.8230\n",
      "0.60   0.8372   -1.8662\n",
      "0.70   0.6506   -1.8279\n",
      "0.80   0.4678   -1.7225\n",
      "0.90   0.2956   -1.5652\n",
      "1.00   0.1390   -1.3703\n",
      "\n",
      "Método RK4\n",
      "t       x1       x2\n",
      "0.00   1.5000   0.0000\n",
      "0.10   1.4720   -0.5402\n",
      "0.20   1.3959   -0.9630\n",
      "0.30   1.2831   -1.2743\n",
      "0.40   1.1445   -1.4831\n",
      "0.50   0.9896   -1.6006\n",
      "0.60   0.8270   -1.6388\n",
      "0.70   0.6640   -1.6110\n",
      "0.80   0.5066   -1.5299\n",
      "0.90   0.3594   -1.4083\n",
      "1.00   0.2259   -1.2579\n"
     ]
    },
    {
     "data": {
      "image/png": "[encoded data removed]",
      "text/plain": [
       "<Figure size 1200x600 with 2 Axes>"
      ]
     },
     "metadata": {},
     "output_type": "display_data"
    }
   ],
   "source": [
    "import numpy as np\n",
    "import matplotlib.pyplot as plt\n",
    "\n",
    "\n",
    "def sistema(t, x1, x2):\n",
    "    dx1_dt = x2\n",
    "    dx2_dt = -2 * x2 - 4 * x1\n",
    "    return dx1_dt, dx2_dt\n",
    "\n",
    "def euler(h, t_max):\n",
    "    t_values = np.arange(0, t_max + h, h)\n",
    "    x1_values = np.zeros_like(t_values)\n",
    "    x2_values = np.zeros_like(t_values)\n",
    "    \n",
    "\n",
    "    x1_values[0] = 1.5\n",
    "    x2_values[0] = 0\n",
    "\n",
    "    print(\"Método de Euler\")\n",
    "    print(\"t       x1       x2\")\n",
    "    print(f\"{0:.2f}   {x1_values[0]:.4f}   {x2_values[0]:.4f}\")\n",
    "\n",
    "    for i in range(1, len(t_values)):\n",
    "        dx1, dx2 = sistema(t_values[i - 1], x1_values[i - 1], x2_values[i - 1])\n",
    "        x1_values[i] = x1_values[i - 1] + h * dx1\n",
    "        x2_values[i] = x2_values[i - 1] + h * dx2\n",
    "        print(f\"{t_values[i]:.2f}   {x1_values[i]:.4f}   {x2_values[i]:.4f}\")\n",
    "    \n",
    "    return t_values, x1_values, x2_values\n",
    "\n",
    "\n",
    "def rk4(h, t_max):\n",
    "    t_values = np.arange(0, t_max + h, h)\n",
    "    x1_values = np.zeros_like(t_values)\n",
    "    x2_values = np.zeros_like(t_values)\n",
    "    \n",
    " \n",
    "    x1_values[0] = 1.5\n",
    "    x2_values[0] = 0\n",
    "\n",
    "    print(\"\\nMétodo RK4\")\n",
    "    print(\"t       x1       x2\")\n",
    "    print(f\"{0:.2f}   {x1_values[0]:.4f}   {x2_values[0]:.4f}\")\n",
    "\n",
    "    for i in range(1, len(t_values)):\n",
    "        t = t_values[i - 1]\n",
    "        x1 = x1_values[i - 1]\n",
    "        x2 = x2_values[i - 1]\n",
    "        \n",
    "        k1_x1, k1_x2 = sistema(t, x1, x2)\n",
    "        k2_x1, k2_x2 = sistema(t + h / 2, x1 + h / 2 * k1_x1, x2 + h / 2 * k1_x2)\n",
    "        k3_x1, k3_x2 = sistema(t + h / 2, x1 + h / 2 * k2_x1, x2 + h / 2 * k2_x2)\n",
    "        k4_x1, k4_x2 = sistema(t + h, x1 + h * k3_x1, x2 + h * k3_x2)\n",
    "        \n",
    "        x1_values[i] = x1 + h / 6 * (k1_x1 + 2 * k2_x1 + 2 * k3_x1 + k4_x1)\n",
    "        x2_values[i] = x2 + h / 6 * (k1_x2 + 2 * k2_x2 + 2 * k3_x2 + k4_x2)\n",
    "        print(f\"{t_values[i]:.2f}   {x1_values[i]:.4f}   {x2_values[i]:.4f}\")\n",
    "    \n",
    "    return t_values, x1_values, x2_values\n",
    "\n",
    "\n",
    "h = 0.1\n",
    "t_max = 1.0\n",
    "\n",
    "\n",
    "t_euler, x1_euler, x2_euler = euler(h, t_max)\n",
    "t_rk4, x1_rk4, x2_rk4 = rk4(h, t_max)\n",
    "\n",
    "\n",
    "plt.figure(figsize=(12, 6))\n",
    "\n",
    "\n",
    "plt.subplot(1, 2, 1)\n",
    "plt.plot(t_euler, x1_euler, label='Euler')\n",
    "plt.plot(t_rk4, x1_rk4, label='RK4')\n",
    "plt.title('Comparación de $x_1(t)$')\n",
    "plt.xlabel('Tiempo (t)')\n",
    "plt.ylabel('$x_1$')\n",
    "plt.legend()\n",
    "plt.grid()\n",
    "\n",
    "\n",
    "plt.subplot(1, 2, 2)\n",
    "plt.plot(t_euler, x2_euler, label='Euler')\n",
    "plt.plot(t_rk4, x2_rk4, label='RK4')\n",
    "plt.title('Comparación de $x_2(t)$')\n",
    "plt.xlabel('Tiempo (t)')\n",
    "plt.ylabel('$x_2$')\n",
    "plt.legend()\n",
    "plt.grid()\n",
    "\n",
    "plt.tight_layout()\n",
    "plt.show()"
   ]
  },
  {
   "cell_type": "markdown",
   "metadata": {},
   "source": [
    "# Tareas Morales\n"
   ]
  },
  {
   "cell_type": "markdown",
   "metadata": {},
   "source": [
    "## Método de punto fijo"
   ]
  },
  {
   "cell_type": "code",
   "execution_count": 60,
   "metadata": {},
   "outputs": [
    {
     "name": "stdout",
     "output_type": "stream",
     "text": [
      "Iteración 1: x = -1.090703, Error Absoluto = 9.092974e-01, Error Relativo = 8.336805e-01\n",
      "Iteración 2: x = -0.203751, Error Absoluto = 8.869516e-01, Error Relativo = 4.353117e+00\n",
      "Iteración 3: x = -0.001407, Error Absoluto = 2.023441e-01, Error Relativo = 1.438283e+02\n",
      "Iteración 4: x = -0.000000, Error Absoluto = 1.406844e-03, Error Relativo = 3.031509e+06\n",
      "Iteración 5: x = 0.000000, Error Absoluto = 4.640739e-10, Error Relativo = N/A\n",
      "\n",
      "La raíz aproximada es: 0.000000\n",
      "\n",
      "Detalles de cada iteración:\n",
      "Iteración 1: x = -1.090703, Error Absoluto = 9.09297e-01, Error Relativo = 8.33680e-01\n",
      "Iteración 2: x = -0.203751, Error Absoluto = 8.86952e-01, Error Relativo = 4.35312e+00\n",
      "Iteración 3: x = -0.001407, Error Absoluto = 2.02344e-01, Error Relativo = 1.43828e+02\n",
      "Iteración 4: x = -0.000000, Error Absoluto = 1.40684e-03, Error Relativo = 3.03151e+06\n",
      "Iteración 5: x = 0.000000, Error Absoluto = 4.64074e-10, Error Relativo = N/A\n"
     ]
    }
   ],
   "source": [
    "import math\n",
    "\n",
    "def f(x):\n",
    "    return 10 * math.sin(x)\n",
    "\n",
    "def g(x):\n",
    "    \n",
    "    return x - f(x) / 10  \n",
    "\n",
    "def punto_fijo(g, x0, tol=1e-6, max_iter=100):\n",
    "    iteraciones = []\n",
    "    x_prev = x0\n",
    "    for i in range(max_iter):\n",
    "        x_next = g(x_prev)\n",
    "        error_abs = abs(x_next - x_prev)\n",
    "        error_rel = error_abs / abs(x_next) if x_next != 0 else None\n",
    "\n",
    "     \n",
    "        iteraciones.append((i + 1, x_next, x_prev, error_abs, error_rel))\n",
    "        \n",
    "   \n",
    "        error_rel_str = f\"{error_rel:.6e}\" if error_rel is not None else \"N/A\"\n",
    "        print(f\"Iteración {i + 1}: x = {x_next:.6f}, Error Absoluto = {error_abs:.6e}, Error Relativo = {error_rel_str}\")\n",
    "        \n",
    "        if error_abs < tol: \n",
    "            return x_next, iteraciones\n",
    "        \n",
    "        x_prev = x_next\n",
    "    \n",
    "    raise ValueError(\"El método no convergió en el número máximo de iteraciones\")\n",
    "\n",
    "\n",
    "x0 = -2  \n",
    "tol = 1e-6  \n",
    "max_iter = 100  \n",
    "\n",
    "\n",
    "raiz, iteraciones = punto_fijo(g, x0, tol, max_iter)\n",
    "\n",
    "\n",
    "print(f\"\\nLa raíz aproximada es: {raiz:.6f}\")\n",
    "print(\"\\nDetalles de cada iteración:\")\n",
    "for i, x_next, x_prev, error_abs, error_rel in iteraciones:\n",
    "    error_abs_str = f\"{error_abs:.5e}\" if error_abs is not None else \"N/A\"\n",
    "    error_rel_str = f\"{error_rel:.5e}\" if error_rel is not None else \"N/A\"\n",
    "    print(f\"Iteración {i}: x = {x_next:.6f}, Error Absoluto = {error_abs_str}, Error Relativo = {error_rel_str}\")\n"
   ]
  },
  {
   "cell_type": "markdown",
   "metadata": {},
   "source": [
    "## Matrices (la inversa de una matriz)"
   ]
  },
  {
   "cell_type": "code",
   "execution_count": null,
   "metadata": {},
   "outputs": [
    {
     "name": "stdout",
     "output_type": "stream",
     "text": [
      "Inversa de la matriz L:\n",
      "[[ 1.00000000e+00  0.00000000e+00 -1.07938350e-17]\n",
      " [-2.56000000e+00  1.00000000e+00 -4.56777473e-17]\n",
      " [ 3.20000000e+00 -3.50000000e+00  1.00000000e+00]]\n",
      "Inversa de la matriz U:\n",
      "[[ 0.04        0.04166667  0.03571429]\n",
      " [-0.         -0.20833333 -0.46428571]\n",
      " [ 0.          0.          1.42857143]]\n"
     ]
    }
   ],
   "source": [
    "import numpy as np\n",
    "\n",
    "\n",
    "L = np.array([\n",
    "    [1, 0, 0],\n",
    "    [2.56, 1, 0],\n",
    "    [5.76, 3.5, 1]\n",
    "])\n",
    "\n",
    "U = np.array([\n",
    "    [25, 5, 1],\n",
    "    [0, -4.8, -1.56],\n",
    "    [0, 0, 0.7]\n",
    "])\n",
    "\n",
    "\n",
    "def calcular_inversa(matriz, nombre):\n",
    "    if matriz.shape[0] != matriz.shape[1]:\n",
    "        print(f\"La matriz {nombre} no es cuadrada, no se puede calcular la inversa.\")\n",
    "        return None\n",
    "    try:\n",
    "        inversa = np.linalg.inv(matriz)\n",
    "        print(f\"Inversa de la matriz {nombre}:\")\n",
    "        print(inversa)\n",
    "        return inversa\n",
    "    except np.linalg.LinAlgError:\n",
    "        print(f\"La matriz {nombre} no es invertible.\")\n",
    "        return None\n",
    "\n",
    "\n",
    "inversa_L = calcular_inversa(L, \"L\")\n",
    "inversa_U = calcular_inversa(U, \"U\")\n"
   ]
  }
 ],
 "metadata": {
  "kernelspec": {
   "display_name": "Python 3",
   "language": "python",
   "name": "python3"
  },
  "language_info": {
   "codemirror_mode": {
    "name": "ipython",
    "version": 3
   },
   "file_extension": ".py",
   "mimetype": "text/x-python",
   "name": "python",
   "nbconvert_exporter": "python",
   "pygments_lexer": "ipython3",
   "version": "3.12.5"
  }
 },
 "nbformat": 4,
 "nbformat_minor": 2
}
